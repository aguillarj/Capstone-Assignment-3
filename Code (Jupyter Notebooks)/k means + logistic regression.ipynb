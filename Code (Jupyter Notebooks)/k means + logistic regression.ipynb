{
 "cells": [
  {
   "cell_type": "code",
   "execution_count": 33,
   "metadata": {},
   "outputs": [],
   "source": [
    "import numpy as np \n",
    "import pandas as pd\n",
    "import warnings\n",
    "warnings.simplefilter(\"ignore\")\n",
    "import seaborn as sns\n",
    "import matplotlib.pyplot as plt\n",
    "plt.style.use('ggplot')\n",
    "from matplotlib import pyplot as plt\n",
    "import seaborn as sns\n",
    "%matplotlib inline"
   ]
  },
  {
   "cell_type": "code",
   "execution_count": 34,
   "metadata": {},
   "outputs": [
    {
     "data": {
      "text/plain": [
       "array(['p', 'e'], dtype=object)"
      ]
     },
     "execution_count": 34,
     "metadata": {},
     "output_type": "execute_result"
    }
   ],
   "source": [
    "# This Python 3 environment comes with many helpful analytics libraries installed\n",
    "# It is defined by the kaggle/python docker image: https://github.com/kaggle/docker-python\n",
    "# For example, here's several helpful packages to load in \n",
    "# Input data files are available in the \"../input/\" directory.\n",
    "# For example, running this (by clicking run or pressing Shift+Enter) will list the files in the input directory\n",
    "\n",
    "mushrooms = 'C:/Users/Jonathan/Downloads/mushrooms.csv'\n",
    "dataset=pd.read_csv(mushrooms)\n",
    "\n",
    "dataset['class'].unique()\n"
   ]
  },
  {
   "cell_type": "code",
   "execution_count": 35,
   "metadata": {},
   "outputs": [
    {
     "data": {
      "text/html": [
       "<div>\n",
       "<style scoped>\n",
       "    .dataframe tbody tr th:only-of-type {\n",
       "        vertical-align: middle;\n",
       "    }\n",
       "\n",
       "    .dataframe tbody tr th {\n",
       "        vertical-align: top;\n",
       "    }\n",
       "\n",
       "    .dataframe thead th {\n",
       "        text-align: right;\n",
       "    }\n",
       "</style>\n",
       "<table border=\"1\" class=\"dataframe\">\n",
       "  <thead>\n",
       "    <tr style=\"text-align: right;\">\n",
       "      <th></th>\n",
       "      <th>class</th>\n",
       "      <th>cap-shape</th>\n",
       "      <th>cap-surface</th>\n",
       "      <th>cap-color</th>\n",
       "      <th>bruises</th>\n",
       "      <th>odor</th>\n",
       "      <th>gill-attachment</th>\n",
       "      <th>gill-spacing</th>\n",
       "      <th>gill-size</th>\n",
       "      <th>gill-color</th>\n",
       "      <th>...</th>\n",
       "      <th>stalk-surface-below-ring</th>\n",
       "      <th>stalk-color-above-ring</th>\n",
       "      <th>stalk-color-below-ring</th>\n",
       "      <th>veil-type</th>\n",
       "      <th>veil-color</th>\n",
       "      <th>ring-number</th>\n",
       "      <th>ring-type</th>\n",
       "      <th>spore-print-color</th>\n",
       "      <th>population</th>\n",
       "      <th>habitat</th>\n",
       "    </tr>\n",
       "  </thead>\n",
       "  <tbody>\n",
       "    <tr>\n",
       "      <th>0</th>\n",
       "      <td>1</td>\n",
       "      <td>5</td>\n",
       "      <td>2</td>\n",
       "      <td>4</td>\n",
       "      <td>1</td>\n",
       "      <td>6</td>\n",
       "      <td>1</td>\n",
       "      <td>0</td>\n",
       "      <td>1</td>\n",
       "      <td>4</td>\n",
       "      <td>...</td>\n",
       "      <td>2</td>\n",
       "      <td>7</td>\n",
       "      <td>7</td>\n",
       "      <td>0</td>\n",
       "      <td>2</td>\n",
       "      <td>1</td>\n",
       "      <td>4</td>\n",
       "      <td>2</td>\n",
       "      <td>3</td>\n",
       "      <td>5</td>\n",
       "    </tr>\n",
       "    <tr>\n",
       "      <th>1</th>\n",
       "      <td>0</td>\n",
       "      <td>5</td>\n",
       "      <td>2</td>\n",
       "      <td>9</td>\n",
       "      <td>1</td>\n",
       "      <td>0</td>\n",
       "      <td>1</td>\n",
       "      <td>0</td>\n",
       "      <td>0</td>\n",
       "      <td>4</td>\n",
       "      <td>...</td>\n",
       "      <td>2</td>\n",
       "      <td>7</td>\n",
       "      <td>7</td>\n",
       "      <td>0</td>\n",
       "      <td>2</td>\n",
       "      <td>1</td>\n",
       "      <td>4</td>\n",
       "      <td>3</td>\n",
       "      <td>2</td>\n",
       "      <td>1</td>\n",
       "    </tr>\n",
       "    <tr>\n",
       "      <th>2</th>\n",
       "      <td>0</td>\n",
       "      <td>0</td>\n",
       "      <td>2</td>\n",
       "      <td>8</td>\n",
       "      <td>1</td>\n",
       "      <td>3</td>\n",
       "      <td>1</td>\n",
       "      <td>0</td>\n",
       "      <td>0</td>\n",
       "      <td>5</td>\n",
       "      <td>...</td>\n",
       "      <td>2</td>\n",
       "      <td>7</td>\n",
       "      <td>7</td>\n",
       "      <td>0</td>\n",
       "      <td>2</td>\n",
       "      <td>1</td>\n",
       "      <td>4</td>\n",
       "      <td>3</td>\n",
       "      <td>2</td>\n",
       "      <td>3</td>\n",
       "    </tr>\n",
       "    <tr>\n",
       "      <th>3</th>\n",
       "      <td>1</td>\n",
       "      <td>5</td>\n",
       "      <td>3</td>\n",
       "      <td>8</td>\n",
       "      <td>1</td>\n",
       "      <td>6</td>\n",
       "      <td>1</td>\n",
       "      <td>0</td>\n",
       "      <td>1</td>\n",
       "      <td>5</td>\n",
       "      <td>...</td>\n",
       "      <td>2</td>\n",
       "      <td>7</td>\n",
       "      <td>7</td>\n",
       "      <td>0</td>\n",
       "      <td>2</td>\n",
       "      <td>1</td>\n",
       "      <td>4</td>\n",
       "      <td>2</td>\n",
       "      <td>3</td>\n",
       "      <td>5</td>\n",
       "    </tr>\n",
       "    <tr>\n",
       "      <th>4</th>\n",
       "      <td>0</td>\n",
       "      <td>5</td>\n",
       "      <td>2</td>\n",
       "      <td>3</td>\n",
       "      <td>0</td>\n",
       "      <td>5</td>\n",
       "      <td>1</td>\n",
       "      <td>1</td>\n",
       "      <td>0</td>\n",
       "      <td>4</td>\n",
       "      <td>...</td>\n",
       "      <td>2</td>\n",
       "      <td>7</td>\n",
       "      <td>7</td>\n",
       "      <td>0</td>\n",
       "      <td>2</td>\n",
       "      <td>1</td>\n",
       "      <td>0</td>\n",
       "      <td>3</td>\n",
       "      <td>0</td>\n",
       "      <td>1</td>\n",
       "    </tr>\n",
       "  </tbody>\n",
       "</table>\n",
       "<p>5 rows × 23 columns</p>\n",
       "</div>"
      ],
      "text/plain": [
       "   class  cap-shape  cap-surface  cap-color  bruises  odor  gill-attachment  \\\n",
       "0      1          5            2          4        1     6                1   \n",
       "1      0          5            2          9        1     0                1   \n",
       "2      0          0            2          8        1     3                1   \n",
       "3      1          5            3          8        1     6                1   \n",
       "4      0          5            2          3        0     5                1   \n",
       "\n",
       "   gill-spacing  gill-size  gill-color   ...     stalk-surface-below-ring  \\\n",
       "0             0          1           4   ...                            2   \n",
       "1             0          0           4   ...                            2   \n",
       "2             0          0           5   ...                            2   \n",
       "3             0          1           5   ...                            2   \n",
       "4             1          0           4   ...                            2   \n",
       "\n",
       "   stalk-color-above-ring  stalk-color-below-ring  veil-type  veil-color  \\\n",
       "0                       7                       7          0           2   \n",
       "1                       7                       7          0           2   \n",
       "2                       7                       7          0           2   \n",
       "3                       7                       7          0           2   \n",
       "4                       7                       7          0           2   \n",
       "\n",
       "   ring-number  ring-type  spore-print-color  population  habitat  \n",
       "0            1          4                  2           3        5  \n",
       "1            1          4                  3           2        1  \n",
       "2            1          4                  3           2        3  \n",
       "3            1          4                  2           3        5  \n",
       "4            1          0                  3           0        1  \n",
       "\n",
       "[5 rows x 23 columns]"
      ]
     },
     "execution_count": 35,
     "metadata": {},
     "output_type": "execute_result"
    }
   ],
   "source": [
    "from sklearn.preprocessing import LabelEncoder\n",
    "labelencoder=LabelEncoder()\n",
    "for col in dataset.columns:\n",
    "    dataset[col] = labelencoder.fit_transform(dataset[col])\n",
    " \n",
    "dataset.head()"
   ]
  },
  {
   "cell_type": "code",
   "execution_count": 36,
   "metadata": {},
   "outputs": [
    {
     "data": {
      "text/plain": [
       "array([7, 3, 6, 4, 0, 2, 5, 1, 8], dtype=int64)"
      ]
     },
     "execution_count": 36,
     "metadata": {},
     "output_type": "execute_result"
    }
   ],
   "source": [
    "dataset['stalk-color-above-ring'].unique()"
   ]
  },
  {
   "cell_type": "code",
   "execution_count": 37,
   "metadata": {},
   "outputs": [
    {
     "name": "stdout",
     "output_type": "stream",
     "text": [
      "class\n",
      "0    4208\n",
      "1    3916\n",
      "dtype: int64\n"
     ]
    }
   ],
   "source": [
    "print(dataset.groupby('class').size())"
   ]
  },
  {
   "cell_type": "code",
   "execution_count": 38,
   "metadata": {},
   "outputs": [
    {
     "data": {
      "text/plain": [
       "0    1\n",
       "1    0\n",
       "2    0\n",
       "3    1\n",
       "4    0\n",
       "Name: class, dtype: int64"
      ]
     },
     "execution_count": 38,
     "metadata": {},
     "output_type": "execute_result"
    }
   ],
   "source": [
    "X = dataset.iloc[:,1:23]  # all rows, all the features and no labels\n",
    "y = dataset.iloc[:, 0]  # all rows, label only\n",
    "X.head()\n",
    "y.head()"
   ]
  },
  {
   "cell_type": "code",
   "execution_count": 39,
   "metadata": {},
   "outputs": [
    {
     "data": {
      "text/html": [
       "<div>\n",
       "<style scoped>\n",
       "    .dataframe tbody tr th:only-of-type {\n",
       "        vertical-align: middle;\n",
       "    }\n",
       "\n",
       "    .dataframe tbody tr th {\n",
       "        vertical-align: top;\n",
       "    }\n",
       "\n",
       "    .dataframe thead th {\n",
       "        text-align: right;\n",
       "    }\n",
       "</style>\n",
       "<table border=\"1\" class=\"dataframe\">\n",
       "  <thead>\n",
       "    <tr style=\"text-align: right;\">\n",
       "      <th></th>\n",
       "      <th>cap-shape</th>\n",
       "      <th>cap-surface</th>\n",
       "      <th>cap-color</th>\n",
       "      <th>bruises</th>\n",
       "      <th>odor</th>\n",
       "      <th>gill-attachment</th>\n",
       "      <th>gill-spacing</th>\n",
       "      <th>gill-size</th>\n",
       "      <th>gill-color</th>\n",
       "      <th>stalk-shape</th>\n",
       "      <th>...</th>\n",
       "      <th>stalk-surface-below-ring</th>\n",
       "      <th>stalk-color-above-ring</th>\n",
       "      <th>stalk-color-below-ring</th>\n",
       "      <th>veil-type</th>\n",
       "      <th>veil-color</th>\n",
       "      <th>ring-number</th>\n",
       "      <th>ring-type</th>\n",
       "      <th>spore-print-color</th>\n",
       "      <th>population</th>\n",
       "      <th>habitat</th>\n",
       "    </tr>\n",
       "  </thead>\n",
       "  <tbody>\n",
       "    <tr>\n",
       "      <th>count</th>\n",
       "      <td>8124.000000</td>\n",
       "      <td>8124.000000</td>\n",
       "      <td>8124.000000</td>\n",
       "      <td>8124.000000</td>\n",
       "      <td>8124.000000</td>\n",
       "      <td>8124.000000</td>\n",
       "      <td>8124.000000</td>\n",
       "      <td>8124.000000</td>\n",
       "      <td>8124.000000</td>\n",
       "      <td>8124.000000</td>\n",
       "      <td>...</td>\n",
       "      <td>8124.000000</td>\n",
       "      <td>8124.000000</td>\n",
       "      <td>8124.000000</td>\n",
       "      <td>8124.0</td>\n",
       "      <td>8124.000000</td>\n",
       "      <td>8124.000000</td>\n",
       "      <td>8124.000000</td>\n",
       "      <td>8124.000000</td>\n",
       "      <td>8124.000000</td>\n",
       "      <td>8124.000000</td>\n",
       "    </tr>\n",
       "    <tr>\n",
       "      <th>mean</th>\n",
       "      <td>3.348104</td>\n",
       "      <td>1.827671</td>\n",
       "      <td>4.504677</td>\n",
       "      <td>0.415559</td>\n",
       "      <td>4.144756</td>\n",
       "      <td>0.974151</td>\n",
       "      <td>0.161497</td>\n",
       "      <td>0.309207</td>\n",
       "      <td>4.810684</td>\n",
       "      <td>0.567208</td>\n",
       "      <td>...</td>\n",
       "      <td>1.603644</td>\n",
       "      <td>5.816347</td>\n",
       "      <td>5.794682</td>\n",
       "      <td>0.0</td>\n",
       "      <td>1.965534</td>\n",
       "      <td>1.069424</td>\n",
       "      <td>2.291974</td>\n",
       "      <td>3.596750</td>\n",
       "      <td>3.644018</td>\n",
       "      <td>1.508616</td>\n",
       "    </tr>\n",
       "    <tr>\n",
       "      <th>std</th>\n",
       "      <td>1.604329</td>\n",
       "      <td>1.229873</td>\n",
       "      <td>2.545821</td>\n",
       "      <td>0.492848</td>\n",
       "      <td>2.103729</td>\n",
       "      <td>0.158695</td>\n",
       "      <td>0.368011</td>\n",
       "      <td>0.462195</td>\n",
       "      <td>3.540359</td>\n",
       "      <td>0.495493</td>\n",
       "      <td>...</td>\n",
       "      <td>0.675974</td>\n",
       "      <td>1.901747</td>\n",
       "      <td>1.907291</td>\n",
       "      <td>0.0</td>\n",
       "      <td>0.242669</td>\n",
       "      <td>0.271064</td>\n",
       "      <td>1.801672</td>\n",
       "      <td>2.382663</td>\n",
       "      <td>1.252082</td>\n",
       "      <td>1.719975</td>\n",
       "    </tr>\n",
       "    <tr>\n",
       "      <th>min</th>\n",
       "      <td>0.000000</td>\n",
       "      <td>0.000000</td>\n",
       "      <td>0.000000</td>\n",
       "      <td>0.000000</td>\n",
       "      <td>0.000000</td>\n",
       "      <td>0.000000</td>\n",
       "      <td>0.000000</td>\n",
       "      <td>0.000000</td>\n",
       "      <td>0.000000</td>\n",
       "      <td>0.000000</td>\n",
       "      <td>...</td>\n",
       "      <td>0.000000</td>\n",
       "      <td>0.000000</td>\n",
       "      <td>0.000000</td>\n",
       "      <td>0.0</td>\n",
       "      <td>0.000000</td>\n",
       "      <td>0.000000</td>\n",
       "      <td>0.000000</td>\n",
       "      <td>0.000000</td>\n",
       "      <td>0.000000</td>\n",
       "      <td>0.000000</td>\n",
       "    </tr>\n",
       "    <tr>\n",
       "      <th>25%</th>\n",
       "      <td>2.000000</td>\n",
       "      <td>0.000000</td>\n",
       "      <td>3.000000</td>\n",
       "      <td>0.000000</td>\n",
       "      <td>2.000000</td>\n",
       "      <td>1.000000</td>\n",
       "      <td>0.000000</td>\n",
       "      <td>0.000000</td>\n",
       "      <td>2.000000</td>\n",
       "      <td>0.000000</td>\n",
       "      <td>...</td>\n",
       "      <td>1.000000</td>\n",
       "      <td>6.000000</td>\n",
       "      <td>6.000000</td>\n",
       "      <td>0.0</td>\n",
       "      <td>2.000000</td>\n",
       "      <td>1.000000</td>\n",
       "      <td>0.000000</td>\n",
       "      <td>2.000000</td>\n",
       "      <td>3.000000</td>\n",
       "      <td>0.000000</td>\n",
       "    </tr>\n",
       "    <tr>\n",
       "      <th>50%</th>\n",
       "      <td>3.000000</td>\n",
       "      <td>2.000000</td>\n",
       "      <td>4.000000</td>\n",
       "      <td>0.000000</td>\n",
       "      <td>5.000000</td>\n",
       "      <td>1.000000</td>\n",
       "      <td>0.000000</td>\n",
       "      <td>0.000000</td>\n",
       "      <td>5.000000</td>\n",
       "      <td>1.000000</td>\n",
       "      <td>...</td>\n",
       "      <td>2.000000</td>\n",
       "      <td>7.000000</td>\n",
       "      <td>7.000000</td>\n",
       "      <td>0.0</td>\n",
       "      <td>2.000000</td>\n",
       "      <td>1.000000</td>\n",
       "      <td>2.000000</td>\n",
       "      <td>3.000000</td>\n",
       "      <td>4.000000</td>\n",
       "      <td>1.000000</td>\n",
       "    </tr>\n",
       "    <tr>\n",
       "      <th>75%</th>\n",
       "      <td>5.000000</td>\n",
       "      <td>3.000000</td>\n",
       "      <td>8.000000</td>\n",
       "      <td>1.000000</td>\n",
       "      <td>5.000000</td>\n",
       "      <td>1.000000</td>\n",
       "      <td>0.000000</td>\n",
       "      <td>1.000000</td>\n",
       "      <td>7.000000</td>\n",
       "      <td>1.000000</td>\n",
       "      <td>...</td>\n",
       "      <td>2.000000</td>\n",
       "      <td>7.000000</td>\n",
       "      <td>7.000000</td>\n",
       "      <td>0.0</td>\n",
       "      <td>2.000000</td>\n",
       "      <td>1.000000</td>\n",
       "      <td>4.000000</td>\n",
       "      <td>7.000000</td>\n",
       "      <td>4.000000</td>\n",
       "      <td>2.000000</td>\n",
       "    </tr>\n",
       "    <tr>\n",
       "      <th>max</th>\n",
       "      <td>5.000000</td>\n",
       "      <td>3.000000</td>\n",
       "      <td>9.000000</td>\n",
       "      <td>1.000000</td>\n",
       "      <td>8.000000</td>\n",
       "      <td>1.000000</td>\n",
       "      <td>1.000000</td>\n",
       "      <td>1.000000</td>\n",
       "      <td>11.000000</td>\n",
       "      <td>1.000000</td>\n",
       "      <td>...</td>\n",
       "      <td>3.000000</td>\n",
       "      <td>8.000000</td>\n",
       "      <td>8.000000</td>\n",
       "      <td>0.0</td>\n",
       "      <td>3.000000</td>\n",
       "      <td>2.000000</td>\n",
       "      <td>4.000000</td>\n",
       "      <td>8.000000</td>\n",
       "      <td>5.000000</td>\n",
       "      <td>6.000000</td>\n",
       "    </tr>\n",
       "  </tbody>\n",
       "</table>\n",
       "<p>8 rows × 22 columns</p>\n",
       "</div>"
      ],
      "text/plain": [
       "         cap-shape  cap-surface    cap-color      bruises         odor  \\\n",
       "count  8124.000000  8124.000000  8124.000000  8124.000000  8124.000000   \n",
       "mean      3.348104     1.827671     4.504677     0.415559     4.144756   \n",
       "std       1.604329     1.229873     2.545821     0.492848     2.103729   \n",
       "min       0.000000     0.000000     0.000000     0.000000     0.000000   \n",
       "25%       2.000000     0.000000     3.000000     0.000000     2.000000   \n",
       "50%       3.000000     2.000000     4.000000     0.000000     5.000000   \n",
       "75%       5.000000     3.000000     8.000000     1.000000     5.000000   \n",
       "max       5.000000     3.000000     9.000000     1.000000     8.000000   \n",
       "\n",
       "       gill-attachment  gill-spacing    gill-size   gill-color  stalk-shape  \\\n",
       "count      8124.000000   8124.000000  8124.000000  8124.000000  8124.000000   \n",
       "mean          0.974151      0.161497     0.309207     4.810684     0.567208   \n",
       "std           0.158695      0.368011     0.462195     3.540359     0.495493   \n",
       "min           0.000000      0.000000     0.000000     0.000000     0.000000   \n",
       "25%           1.000000      0.000000     0.000000     2.000000     0.000000   \n",
       "50%           1.000000      0.000000     0.000000     5.000000     1.000000   \n",
       "75%           1.000000      0.000000     1.000000     7.000000     1.000000   \n",
       "max           1.000000      1.000000     1.000000    11.000000     1.000000   \n",
       "\n",
       "          ...       stalk-surface-below-ring  stalk-color-above-ring  \\\n",
       "count     ...                    8124.000000             8124.000000   \n",
       "mean      ...                       1.603644                5.816347   \n",
       "std       ...                       0.675974                1.901747   \n",
       "min       ...                       0.000000                0.000000   \n",
       "25%       ...                       1.000000                6.000000   \n",
       "50%       ...                       2.000000                7.000000   \n",
       "75%       ...                       2.000000                7.000000   \n",
       "max       ...                       3.000000                8.000000   \n",
       "\n",
       "       stalk-color-below-ring  veil-type   veil-color  ring-number  \\\n",
       "count             8124.000000     8124.0  8124.000000  8124.000000   \n",
       "mean                 5.794682        0.0     1.965534     1.069424   \n",
       "std                  1.907291        0.0     0.242669     0.271064   \n",
       "min                  0.000000        0.0     0.000000     0.000000   \n",
       "25%                  6.000000        0.0     2.000000     1.000000   \n",
       "50%                  7.000000        0.0     2.000000     1.000000   \n",
       "75%                  7.000000        0.0     2.000000     1.000000   \n",
       "max                  8.000000        0.0     3.000000     2.000000   \n",
       "\n",
       "         ring-type  spore-print-color   population      habitat  \n",
       "count  8124.000000        8124.000000  8124.000000  8124.000000  \n",
       "mean      2.291974           3.596750     3.644018     1.508616  \n",
       "std       1.801672           2.382663     1.252082     1.719975  \n",
       "min       0.000000           0.000000     0.000000     0.000000  \n",
       "25%       0.000000           2.000000     3.000000     0.000000  \n",
       "50%       2.000000           3.000000     4.000000     1.000000  \n",
       "75%       4.000000           7.000000     4.000000     2.000000  \n",
       "max       4.000000           8.000000     5.000000     6.000000  \n",
       "\n",
       "[8 rows x 22 columns]"
      ]
     },
     "execution_count": 39,
     "metadata": {},
     "output_type": "execute_result"
    }
   ],
   "source": [
    "X.describe()"
   ]
  },
  {
   "cell_type": "code",
   "execution_count": 40,
   "metadata": {},
   "outputs": [
    {
     "data": {
      "text/html": [
       "<div>\n",
       "<style scoped>\n",
       "    .dataframe tbody tr th:only-of-type {\n",
       "        vertical-align: middle;\n",
       "    }\n",
       "\n",
       "    .dataframe tbody tr th {\n",
       "        vertical-align: top;\n",
       "    }\n",
       "\n",
       "    .dataframe thead th {\n",
       "        text-align: right;\n",
       "    }\n",
       "</style>\n",
       "<table border=\"1\" class=\"dataframe\">\n",
       "  <thead>\n",
       "    <tr style=\"text-align: right;\">\n",
       "      <th></th>\n",
       "      <th>class</th>\n",
       "      <th>cap-shape</th>\n",
       "      <th>cap-surface</th>\n",
       "      <th>cap-color</th>\n",
       "      <th>bruises</th>\n",
       "      <th>odor</th>\n",
       "      <th>gill-attachment</th>\n",
       "      <th>gill-spacing</th>\n",
       "      <th>gill-size</th>\n",
       "      <th>gill-color</th>\n",
       "      <th>...</th>\n",
       "      <th>stalk-surface-below-ring</th>\n",
       "      <th>stalk-color-above-ring</th>\n",
       "      <th>stalk-color-below-ring</th>\n",
       "      <th>veil-type</th>\n",
       "      <th>veil-color</th>\n",
       "      <th>ring-number</th>\n",
       "      <th>ring-type</th>\n",
       "      <th>spore-print-color</th>\n",
       "      <th>population</th>\n",
       "      <th>habitat</th>\n",
       "    </tr>\n",
       "  </thead>\n",
       "  <tbody>\n",
       "    <tr>\n",
       "      <th>class</th>\n",
       "      <td>1.000000</td>\n",
       "      <td>0.052951</td>\n",
       "      <td>0.178446</td>\n",
       "      <td>-0.031384</td>\n",
       "      <td>-0.501530</td>\n",
       "      <td>-0.093552</td>\n",
       "      <td>0.129200</td>\n",
       "      <td>-0.348387</td>\n",
       "      <td>0.540024</td>\n",
       "      <td>-0.530566</td>\n",
       "      <td>...</td>\n",
       "      <td>-0.298801</td>\n",
       "      <td>-0.154003</td>\n",
       "      <td>-0.146730</td>\n",
       "      <td>NaN</td>\n",
       "      <td>0.145142</td>\n",
       "      <td>-0.214366</td>\n",
       "      <td>-0.411771</td>\n",
       "      <td>0.171961</td>\n",
       "      <td>0.298686</td>\n",
       "      <td>0.217179</td>\n",
       "    </tr>\n",
       "    <tr>\n",
       "      <th>cap-shape</th>\n",
       "      <td>0.052951</td>\n",
       "      <td>1.000000</td>\n",
       "      <td>-0.050454</td>\n",
       "      <td>-0.048203</td>\n",
       "      <td>-0.035374</td>\n",
       "      <td>-0.021935</td>\n",
       "      <td>0.078865</td>\n",
       "      <td>0.013196</td>\n",
       "      <td>0.054050</td>\n",
       "      <td>-0.006039</td>\n",
       "      <td>...</td>\n",
       "      <td>-0.032591</td>\n",
       "      <td>-0.031659</td>\n",
       "      <td>-0.030390</td>\n",
       "      <td>NaN</td>\n",
       "      <td>0.072560</td>\n",
       "      <td>-0.106534</td>\n",
       "      <td>-0.025457</td>\n",
       "      <td>-0.073416</td>\n",
       "      <td>0.063413</td>\n",
       "      <td>-0.042221</td>\n",
       "    </tr>\n",
       "    <tr>\n",
       "      <th>cap-surface</th>\n",
       "      <td>0.178446</td>\n",
       "      <td>-0.050454</td>\n",
       "      <td>1.000000</td>\n",
       "      <td>-0.019402</td>\n",
       "      <td>0.070228</td>\n",
       "      <td>0.045233</td>\n",
       "      <td>-0.034180</td>\n",
       "      <td>-0.282306</td>\n",
       "      <td>0.208100</td>\n",
       "      <td>-0.161017</td>\n",
       "      <td>...</td>\n",
       "      <td>0.107965</td>\n",
       "      <td>0.066050</td>\n",
       "      <td>0.068885</td>\n",
       "      <td>NaN</td>\n",
       "      <td>-0.016603</td>\n",
       "      <td>-0.026147</td>\n",
       "      <td>-0.106407</td>\n",
       "      <td>0.230364</td>\n",
       "      <td>0.021555</td>\n",
       "      <td>0.163887</td>\n",
       "    </tr>\n",
       "    <tr>\n",
       "      <th>cap-color</th>\n",
       "      <td>-0.031384</td>\n",
       "      <td>-0.048203</td>\n",
       "      <td>-0.019402</td>\n",
       "      <td>1.000000</td>\n",
       "      <td>-0.000764</td>\n",
       "      <td>-0.387121</td>\n",
       "      <td>0.041436</td>\n",
       "      <td>0.144259</td>\n",
       "      <td>-0.169464</td>\n",
       "      <td>0.084659</td>\n",
       "      <td>...</td>\n",
       "      <td>-0.047710</td>\n",
       "      <td>0.002364</td>\n",
       "      <td>0.008057</td>\n",
       "      <td>NaN</td>\n",
       "      <td>0.036130</td>\n",
       "      <td>-0.005822</td>\n",
       "      <td>0.162513</td>\n",
       "      <td>-0.293523</td>\n",
       "      <td>-0.144770</td>\n",
       "      <td>0.033925</td>\n",
       "    </tr>\n",
       "    <tr>\n",
       "      <th>bruises</th>\n",
       "      <td>-0.501530</td>\n",
       "      <td>-0.035374</td>\n",
       "      <td>0.070228</td>\n",
       "      <td>-0.000764</td>\n",
       "      <td>1.000000</td>\n",
       "      <td>-0.061825</td>\n",
       "      <td>0.137359</td>\n",
       "      <td>-0.299473</td>\n",
       "      <td>-0.369596</td>\n",
       "      <td>0.527120</td>\n",
       "      <td>...</td>\n",
       "      <td>0.458983</td>\n",
       "      <td>0.083538</td>\n",
       "      <td>0.092874</td>\n",
       "      <td>NaN</td>\n",
       "      <td>0.119770</td>\n",
       "      <td>0.056788</td>\n",
       "      <td>0.692973</td>\n",
       "      <td>-0.285008</td>\n",
       "      <td>0.088137</td>\n",
       "      <td>-0.075095</td>\n",
       "    </tr>\n",
       "    <tr>\n",
       "      <th>odor</th>\n",
       "      <td>-0.093552</td>\n",
       "      <td>-0.021935</td>\n",
       "      <td>0.045233</td>\n",
       "      <td>-0.387121</td>\n",
       "      <td>-0.061825</td>\n",
       "      <td>1.000000</td>\n",
       "      <td>-0.059590</td>\n",
       "      <td>0.063936</td>\n",
       "      <td>0.310495</td>\n",
       "      <td>-0.129213</td>\n",
       "      <td>...</td>\n",
       "      <td>0.061820</td>\n",
       "      <td>0.174532</td>\n",
       "      <td>0.169407</td>\n",
       "      <td>NaN</td>\n",
       "      <td>-0.057747</td>\n",
       "      <td>0.111905</td>\n",
       "      <td>-0.281387</td>\n",
       "      <td>0.469055</td>\n",
       "      <td>-0.043623</td>\n",
       "      <td>-0.026610</td>\n",
       "    </tr>\n",
       "    <tr>\n",
       "      <th>gill-attachment</th>\n",
       "      <td>0.129200</td>\n",
       "      <td>0.078865</td>\n",
       "      <td>-0.034180</td>\n",
       "      <td>0.041436</td>\n",
       "      <td>0.137359</td>\n",
       "      <td>-0.059590</td>\n",
       "      <td>1.000000</td>\n",
       "      <td>0.071489</td>\n",
       "      <td>0.108984</td>\n",
       "      <td>-0.128567</td>\n",
       "      <td>...</td>\n",
       "      <td>-0.116177</td>\n",
       "      <td>0.099299</td>\n",
       "      <td>0.097160</td>\n",
       "      <td>NaN</td>\n",
       "      <td>0.897518</td>\n",
       "      <td>0.093236</td>\n",
       "      <td>-0.146689</td>\n",
       "      <td>-0.029524</td>\n",
       "      <td>0.165575</td>\n",
       "      <td>-0.030304</td>\n",
       "    </tr>\n",
       "    <tr>\n",
       "      <th>gill-spacing</th>\n",
       "      <td>-0.348387</td>\n",
       "      <td>0.013196</td>\n",
       "      <td>-0.282306</td>\n",
       "      <td>0.144259</td>\n",
       "      <td>-0.299473</td>\n",
       "      <td>0.063936</td>\n",
       "      <td>0.071489</td>\n",
       "      <td>1.000000</td>\n",
       "      <td>-0.108333</td>\n",
       "      <td>0.100193</td>\n",
       "      <td>...</td>\n",
       "      <td>-0.213775</td>\n",
       "      <td>0.274574</td>\n",
       "      <td>0.253505</td>\n",
       "      <td>NaN</td>\n",
       "      <td>0.073363</td>\n",
       "      <td>0.243014</td>\n",
       "      <td>-0.195897</td>\n",
       "      <td>0.047323</td>\n",
       "      <td>-0.529253</td>\n",
       "      <td>-0.154680</td>\n",
       "    </tr>\n",
       "    <tr>\n",
       "      <th>gill-size</th>\n",
       "      <td>0.540024</td>\n",
       "      <td>0.054050</td>\n",
       "      <td>0.208100</td>\n",
       "      <td>-0.169464</td>\n",
       "      <td>-0.369596</td>\n",
       "      <td>0.310495</td>\n",
       "      <td>0.108984</td>\n",
       "      <td>-0.108333</td>\n",
       "      <td>1.000000</td>\n",
       "      <td>-0.516736</td>\n",
       "      <td>...</td>\n",
       "      <td>0.010894</td>\n",
       "      <td>0.296548</td>\n",
       "      <td>0.278708</td>\n",
       "      <td>NaN</td>\n",
       "      <td>0.103809</td>\n",
       "      <td>-0.171362</td>\n",
       "      <td>-0.460872</td>\n",
       "      <td>0.622991</td>\n",
       "      <td>0.147682</td>\n",
       "      <td>0.161418</td>\n",
       "    </tr>\n",
       "    <tr>\n",
       "      <th>gill-color</th>\n",
       "      <td>-0.530566</td>\n",
       "      <td>-0.006039</td>\n",
       "      <td>-0.161017</td>\n",
       "      <td>0.084659</td>\n",
       "      <td>0.527120</td>\n",
       "      <td>-0.129213</td>\n",
       "      <td>-0.128567</td>\n",
       "      <td>0.100193</td>\n",
       "      <td>-0.516736</td>\n",
       "      <td>1.000000</td>\n",
       "      <td>...</td>\n",
       "      <td>0.257224</td>\n",
       "      <td>-0.058299</td>\n",
       "      <td>-0.074781</td>\n",
       "      <td>NaN</td>\n",
       "      <td>-0.097583</td>\n",
       "      <td>0.096054</td>\n",
       "      <td>0.629398</td>\n",
       "      <td>-0.416135</td>\n",
       "      <td>-0.034090</td>\n",
       "      <td>-0.202972</td>\n",
       "    </tr>\n",
       "    <tr>\n",
       "      <th>stalk-shape</th>\n",
       "      <td>-0.102019</td>\n",
       "      <td>0.063794</td>\n",
       "      <td>-0.014123</td>\n",
       "      <td>-0.456496</td>\n",
       "      <td>0.099364</td>\n",
       "      <td>0.459766</td>\n",
       "      <td>0.186485</td>\n",
       "      <td>0.080895</td>\n",
       "      <td>0.214576</td>\n",
       "      <td>-0.175699</td>\n",
       "      <td>...</td>\n",
       "      <td>-0.034399</td>\n",
       "      <td>0.223439</td>\n",
       "      <td>0.235794</td>\n",
       "      <td>NaN</td>\n",
       "      <td>0.162604</td>\n",
       "      <td>-0.293221</td>\n",
       "      <td>-0.291444</td>\n",
       "      <td>0.258831</td>\n",
       "      <td>0.087383</td>\n",
       "      <td>-0.269216</td>\n",
       "    </tr>\n",
       "    <tr>\n",
       "      <th>stalk-root</th>\n",
       "      <td>-0.379361</td>\n",
       "      <td>0.030191</td>\n",
       "      <td>-0.126245</td>\n",
       "      <td>0.321274</td>\n",
       "      <td>0.244188</td>\n",
       "      <td>-0.205215</td>\n",
       "      <td>0.144063</td>\n",
       "      <td>0.350548</td>\n",
       "      <td>-0.344345</td>\n",
       "      <td>0.315080</td>\n",
       "      <td>...</td>\n",
       "      <td>0.087454</td>\n",
       "      <td>0.157140</td>\n",
       "      <td>0.159805</td>\n",
       "      <td>NaN</td>\n",
       "      <td>0.156213</td>\n",
       "      <td>-0.247357</td>\n",
       "      <td>0.210155</td>\n",
       "      <td>-0.536996</td>\n",
       "      <td>-0.306747</td>\n",
       "      <td>-0.007668</td>\n",
       "    </tr>\n",
       "    <tr>\n",
       "      <th>stalk-surface-above-ring</th>\n",
       "      <td>-0.334593</td>\n",
       "      <td>-0.030417</td>\n",
       "      <td>0.089090</td>\n",
       "      <td>-0.060837</td>\n",
       "      <td>0.460824</td>\n",
       "      <td>0.118617</td>\n",
       "      <td>-0.088916</td>\n",
       "      <td>-0.212359</td>\n",
       "      <td>0.056310</td>\n",
       "      <td>0.224287</td>\n",
       "      <td>...</td>\n",
       "      <td>0.437164</td>\n",
       "      <td>0.132708</td>\n",
       "      <td>0.142835</td>\n",
       "      <td>NaN</td>\n",
       "      <td>-0.090591</td>\n",
       "      <td>0.107904</td>\n",
       "      <td>0.390091</td>\n",
       "      <td>0.100764</td>\n",
       "      <td>0.079604</td>\n",
       "      <td>-0.058076</td>\n",
       "    </tr>\n",
       "    <tr>\n",
       "      <th>stalk-surface-below-ring</th>\n",
       "      <td>-0.298801</td>\n",
       "      <td>-0.032591</td>\n",
       "      <td>0.107965</td>\n",
       "      <td>-0.047710</td>\n",
       "      <td>0.458983</td>\n",
       "      <td>0.061820</td>\n",
       "      <td>-0.116177</td>\n",
       "      <td>-0.213775</td>\n",
       "      <td>0.010894</td>\n",
       "      <td>0.257224</td>\n",
       "      <td>...</td>\n",
       "      <td>1.000000</td>\n",
       "      <td>0.106933</td>\n",
       "      <td>0.110656</td>\n",
       "      <td>NaN</td>\n",
       "      <td>-0.077284</td>\n",
       "      <td>0.040006</td>\n",
       "      <td>0.394644</td>\n",
       "      <td>0.130974</td>\n",
       "      <td>0.046797</td>\n",
       "      <td>-0.039628</td>\n",
       "    </tr>\n",
       "    <tr>\n",
       "      <th>stalk-color-above-ring</th>\n",
       "      <td>-0.154003</td>\n",
       "      <td>-0.031659</td>\n",
       "      <td>0.066050</td>\n",
       "      <td>0.002364</td>\n",
       "      <td>0.083538</td>\n",
       "      <td>0.174532</td>\n",
       "      <td>0.099299</td>\n",
       "      <td>0.274574</td>\n",
       "      <td>0.296548</td>\n",
       "      <td>-0.058299</td>\n",
       "      <td>...</td>\n",
       "      <td>0.106933</td>\n",
       "      <td>1.000000</td>\n",
       "      <td>0.491510</td>\n",
       "      <td>NaN</td>\n",
       "      <td>0.067377</td>\n",
       "      <td>0.084917</td>\n",
       "      <td>-0.048878</td>\n",
       "      <td>0.271533</td>\n",
       "      <td>-0.240261</td>\n",
       "      <td>0.042561</td>\n",
       "    </tr>\n",
       "    <tr>\n",
       "      <th>stalk-color-below-ring</th>\n",
       "      <td>-0.146730</td>\n",
       "      <td>-0.030390</td>\n",
       "      <td>0.068885</td>\n",
       "      <td>0.008057</td>\n",
       "      <td>0.092874</td>\n",
       "      <td>0.169407</td>\n",
       "      <td>0.097160</td>\n",
       "      <td>0.253505</td>\n",
       "      <td>0.278708</td>\n",
       "      <td>-0.074781</td>\n",
       "      <td>...</td>\n",
       "      <td>0.110656</td>\n",
       "      <td>0.491510</td>\n",
       "      <td>1.000000</td>\n",
       "      <td>NaN</td>\n",
       "      <td>0.065567</td>\n",
       "      <td>0.087580</td>\n",
       "      <td>-0.034284</td>\n",
       "      <td>0.254518</td>\n",
       "      <td>-0.242792</td>\n",
       "      <td>0.041594</td>\n",
       "    </tr>\n",
       "    <tr>\n",
       "      <th>veil-type</th>\n",
       "      <td>NaN</td>\n",
       "      <td>NaN</td>\n",
       "      <td>NaN</td>\n",
       "      <td>NaN</td>\n",
       "      <td>NaN</td>\n",
       "      <td>NaN</td>\n",
       "      <td>NaN</td>\n",
       "      <td>NaN</td>\n",
       "      <td>NaN</td>\n",
       "      <td>NaN</td>\n",
       "      <td>...</td>\n",
       "      <td>NaN</td>\n",
       "      <td>NaN</td>\n",
       "      <td>NaN</td>\n",
       "      <td>NaN</td>\n",
       "      <td>NaN</td>\n",
       "      <td>NaN</td>\n",
       "      <td>NaN</td>\n",
       "      <td>NaN</td>\n",
       "      <td>NaN</td>\n",
       "      <td>NaN</td>\n",
       "    </tr>\n",
       "    <tr>\n",
       "      <th>veil-color</th>\n",
       "      <td>0.145142</td>\n",
       "      <td>0.072560</td>\n",
       "      <td>-0.016603</td>\n",
       "      <td>0.036130</td>\n",
       "      <td>0.119770</td>\n",
       "      <td>-0.057747</td>\n",
       "      <td>0.897518</td>\n",
       "      <td>0.073363</td>\n",
       "      <td>0.103809</td>\n",
       "      <td>-0.097583</td>\n",
       "      <td>...</td>\n",
       "      <td>-0.077284</td>\n",
       "      <td>0.067377</td>\n",
       "      <td>0.065567</td>\n",
       "      <td>NaN</td>\n",
       "      <td>1.000000</td>\n",
       "      <td>0.036380</td>\n",
       "      <td>-0.143673</td>\n",
       "      <td>-0.003600</td>\n",
       "      <td>0.124924</td>\n",
       "      <td>-0.040581</td>\n",
       "    </tr>\n",
       "    <tr>\n",
       "      <th>ring-number</th>\n",
       "      <td>-0.214366</td>\n",
       "      <td>-0.106534</td>\n",
       "      <td>-0.026147</td>\n",
       "      <td>-0.005822</td>\n",
       "      <td>0.056788</td>\n",
       "      <td>0.111905</td>\n",
       "      <td>0.093236</td>\n",
       "      <td>0.243014</td>\n",
       "      <td>-0.171362</td>\n",
       "      <td>0.096054</td>\n",
       "      <td>...</td>\n",
       "      <td>0.040006</td>\n",
       "      <td>0.084917</td>\n",
       "      <td>0.087580</td>\n",
       "      <td>NaN</td>\n",
       "      <td>0.036380</td>\n",
       "      <td>1.000000</td>\n",
       "      <td>0.058312</td>\n",
       "      <td>0.338417</td>\n",
       "      <td>-0.242020</td>\n",
       "      <td>0.235835</td>\n",
       "    </tr>\n",
       "    <tr>\n",
       "      <th>ring-type</th>\n",
       "      <td>-0.411771</td>\n",
       "      <td>-0.025457</td>\n",
       "      <td>-0.106407</td>\n",
       "      <td>0.162513</td>\n",
       "      <td>0.692973</td>\n",
       "      <td>-0.281387</td>\n",
       "      <td>-0.146689</td>\n",
       "      <td>-0.195897</td>\n",
       "      <td>-0.460872</td>\n",
       "      <td>0.629398</td>\n",
       "      <td>...</td>\n",
       "      <td>0.394644</td>\n",
       "      <td>-0.048878</td>\n",
       "      <td>-0.034284</td>\n",
       "      <td>NaN</td>\n",
       "      <td>-0.143673</td>\n",
       "      <td>0.058312</td>\n",
       "      <td>1.000000</td>\n",
       "      <td>-0.487048</td>\n",
       "      <td>0.211763</td>\n",
       "      <td>-0.212080</td>\n",
       "    </tr>\n",
       "    <tr>\n",
       "      <th>spore-print-color</th>\n",
       "      <td>0.171961</td>\n",
       "      <td>-0.073416</td>\n",
       "      <td>0.230364</td>\n",
       "      <td>-0.293523</td>\n",
       "      <td>-0.285008</td>\n",
       "      <td>0.469055</td>\n",
       "      <td>-0.029524</td>\n",
       "      <td>0.047323</td>\n",
       "      <td>0.622991</td>\n",
       "      <td>-0.416135</td>\n",
       "      <td>...</td>\n",
       "      <td>0.130974</td>\n",
       "      <td>0.271533</td>\n",
       "      <td>0.254518</td>\n",
       "      <td>NaN</td>\n",
       "      <td>-0.003600</td>\n",
       "      <td>0.338417</td>\n",
       "      <td>-0.487048</td>\n",
       "      <td>1.000000</td>\n",
       "      <td>-0.126859</td>\n",
       "      <td>0.185954</td>\n",
       "    </tr>\n",
       "    <tr>\n",
       "      <th>population</th>\n",
       "      <td>0.298686</td>\n",
       "      <td>0.063413</td>\n",
       "      <td>0.021555</td>\n",
       "      <td>-0.144770</td>\n",
       "      <td>0.088137</td>\n",
       "      <td>-0.043623</td>\n",
       "      <td>0.165575</td>\n",
       "      <td>-0.529253</td>\n",
       "      <td>0.147682</td>\n",
       "      <td>-0.034090</td>\n",
       "      <td>...</td>\n",
       "      <td>0.046797</td>\n",
       "      <td>-0.240261</td>\n",
       "      <td>-0.242792</td>\n",
       "      <td>NaN</td>\n",
       "      <td>0.124924</td>\n",
       "      <td>-0.242020</td>\n",
       "      <td>0.211763</td>\n",
       "      <td>-0.126859</td>\n",
       "      <td>1.000000</td>\n",
       "      <td>-0.174529</td>\n",
       "    </tr>\n",
       "    <tr>\n",
       "      <th>habitat</th>\n",
       "      <td>0.217179</td>\n",
       "      <td>-0.042221</td>\n",
       "      <td>0.163887</td>\n",
       "      <td>0.033925</td>\n",
       "      <td>-0.075095</td>\n",
       "      <td>-0.026610</td>\n",
       "      <td>-0.030304</td>\n",
       "      <td>-0.154680</td>\n",
       "      <td>0.161418</td>\n",
       "      <td>-0.202972</td>\n",
       "      <td>...</td>\n",
       "      <td>-0.039628</td>\n",
       "      <td>0.042561</td>\n",
       "      <td>0.041594</td>\n",
       "      <td>NaN</td>\n",
       "      <td>-0.040581</td>\n",
       "      <td>0.235835</td>\n",
       "      <td>-0.212080</td>\n",
       "      <td>0.185954</td>\n",
       "      <td>-0.174529</td>\n",
       "      <td>1.000000</td>\n",
       "    </tr>\n",
       "  </tbody>\n",
       "</table>\n",
       "<p>23 rows × 23 columns</p>\n",
       "</div>"
      ],
      "text/plain": [
       "                             class  cap-shape  cap-surface  cap-color  \\\n",
       "class                     1.000000   0.052951     0.178446  -0.031384   \n",
       "cap-shape                 0.052951   1.000000    -0.050454  -0.048203   \n",
       "cap-surface               0.178446  -0.050454     1.000000  -0.019402   \n",
       "cap-color                -0.031384  -0.048203    -0.019402   1.000000   \n",
       "bruises                  -0.501530  -0.035374     0.070228  -0.000764   \n",
       "odor                     -0.093552  -0.021935     0.045233  -0.387121   \n",
       "gill-attachment           0.129200   0.078865    -0.034180   0.041436   \n",
       "gill-spacing             -0.348387   0.013196    -0.282306   0.144259   \n",
       "gill-size                 0.540024   0.054050     0.208100  -0.169464   \n",
       "gill-color               -0.530566  -0.006039    -0.161017   0.084659   \n",
       "stalk-shape              -0.102019   0.063794    -0.014123  -0.456496   \n",
       "stalk-root               -0.379361   0.030191    -0.126245   0.321274   \n",
       "stalk-surface-above-ring -0.334593  -0.030417     0.089090  -0.060837   \n",
       "stalk-surface-below-ring -0.298801  -0.032591     0.107965  -0.047710   \n",
       "stalk-color-above-ring   -0.154003  -0.031659     0.066050   0.002364   \n",
       "stalk-color-below-ring   -0.146730  -0.030390     0.068885   0.008057   \n",
       "veil-type                      NaN        NaN          NaN        NaN   \n",
       "veil-color                0.145142   0.072560    -0.016603   0.036130   \n",
       "ring-number              -0.214366  -0.106534    -0.026147  -0.005822   \n",
       "ring-type                -0.411771  -0.025457    -0.106407   0.162513   \n",
       "spore-print-color         0.171961  -0.073416     0.230364  -0.293523   \n",
       "population                0.298686   0.063413     0.021555  -0.144770   \n",
       "habitat                   0.217179  -0.042221     0.163887   0.033925   \n",
       "\n",
       "                           bruises      odor  gill-attachment  gill-spacing  \\\n",
       "class                    -0.501530 -0.093552         0.129200     -0.348387   \n",
       "cap-shape                -0.035374 -0.021935         0.078865      0.013196   \n",
       "cap-surface               0.070228  0.045233        -0.034180     -0.282306   \n",
       "cap-color                -0.000764 -0.387121         0.041436      0.144259   \n",
       "bruises                   1.000000 -0.061825         0.137359     -0.299473   \n",
       "odor                     -0.061825  1.000000        -0.059590      0.063936   \n",
       "gill-attachment           0.137359 -0.059590         1.000000      0.071489   \n",
       "gill-spacing             -0.299473  0.063936         0.071489      1.000000   \n",
       "gill-size                -0.369596  0.310495         0.108984     -0.108333   \n",
       "gill-color                0.527120 -0.129213        -0.128567      0.100193   \n",
       "stalk-shape               0.099364  0.459766         0.186485      0.080895   \n",
       "stalk-root                0.244188 -0.205215         0.144063      0.350548   \n",
       "stalk-surface-above-ring  0.460824  0.118617        -0.088916     -0.212359   \n",
       "stalk-surface-below-ring  0.458983  0.061820        -0.116177     -0.213775   \n",
       "stalk-color-above-ring    0.083538  0.174532         0.099299      0.274574   \n",
       "stalk-color-below-ring    0.092874  0.169407         0.097160      0.253505   \n",
       "veil-type                      NaN       NaN              NaN           NaN   \n",
       "veil-color                0.119770 -0.057747         0.897518      0.073363   \n",
       "ring-number               0.056788  0.111905         0.093236      0.243014   \n",
       "ring-type                 0.692973 -0.281387        -0.146689     -0.195897   \n",
       "spore-print-color        -0.285008  0.469055        -0.029524      0.047323   \n",
       "population                0.088137 -0.043623         0.165575     -0.529253   \n",
       "habitat                  -0.075095 -0.026610        -0.030304     -0.154680   \n",
       "\n",
       "                          gill-size  gill-color    ...     \\\n",
       "class                      0.540024   -0.530566    ...      \n",
       "cap-shape                  0.054050   -0.006039    ...      \n",
       "cap-surface                0.208100   -0.161017    ...      \n",
       "cap-color                 -0.169464    0.084659    ...      \n",
       "bruises                   -0.369596    0.527120    ...      \n",
       "odor                       0.310495   -0.129213    ...      \n",
       "gill-attachment            0.108984   -0.128567    ...      \n",
       "gill-spacing              -0.108333    0.100193    ...      \n",
       "gill-size                  1.000000   -0.516736    ...      \n",
       "gill-color                -0.516736    1.000000    ...      \n",
       "stalk-shape                0.214576   -0.175699    ...      \n",
       "stalk-root                -0.344345    0.315080    ...      \n",
       "stalk-surface-above-ring   0.056310    0.224287    ...      \n",
       "stalk-surface-below-ring   0.010894    0.257224    ...      \n",
       "stalk-color-above-ring     0.296548   -0.058299    ...      \n",
       "stalk-color-below-ring     0.278708   -0.074781    ...      \n",
       "veil-type                       NaN         NaN    ...      \n",
       "veil-color                 0.103809   -0.097583    ...      \n",
       "ring-number               -0.171362    0.096054    ...      \n",
       "ring-type                 -0.460872    0.629398    ...      \n",
       "spore-print-color          0.622991   -0.416135    ...      \n",
       "population                 0.147682   -0.034090    ...      \n",
       "habitat                    0.161418   -0.202972    ...      \n",
       "\n",
       "                          stalk-surface-below-ring  stalk-color-above-ring  \\\n",
       "class                                    -0.298801               -0.154003   \n",
       "cap-shape                                -0.032591               -0.031659   \n",
       "cap-surface                               0.107965                0.066050   \n",
       "cap-color                                -0.047710                0.002364   \n",
       "bruises                                   0.458983                0.083538   \n",
       "odor                                      0.061820                0.174532   \n",
       "gill-attachment                          -0.116177                0.099299   \n",
       "gill-spacing                             -0.213775                0.274574   \n",
       "gill-size                                 0.010894                0.296548   \n",
       "gill-color                                0.257224               -0.058299   \n",
       "stalk-shape                              -0.034399                0.223439   \n",
       "stalk-root                                0.087454                0.157140   \n",
       "stalk-surface-above-ring                  0.437164                0.132708   \n",
       "stalk-surface-below-ring                  1.000000                0.106933   \n",
       "stalk-color-above-ring                    0.106933                1.000000   \n",
       "stalk-color-below-ring                    0.110656                0.491510   \n",
       "veil-type                                      NaN                     NaN   \n",
       "veil-color                               -0.077284                0.067377   \n",
       "ring-number                               0.040006                0.084917   \n",
       "ring-type                                 0.394644               -0.048878   \n",
       "spore-print-color                         0.130974                0.271533   \n",
       "population                                0.046797               -0.240261   \n",
       "habitat                                  -0.039628                0.042561   \n",
       "\n",
       "                          stalk-color-below-ring  veil-type  veil-color  \\\n",
       "class                                  -0.146730        NaN    0.145142   \n",
       "cap-shape                              -0.030390        NaN    0.072560   \n",
       "cap-surface                             0.068885        NaN   -0.016603   \n",
       "cap-color                               0.008057        NaN    0.036130   \n",
       "bruises                                 0.092874        NaN    0.119770   \n",
       "odor                                    0.169407        NaN   -0.057747   \n",
       "gill-attachment                         0.097160        NaN    0.897518   \n",
       "gill-spacing                            0.253505        NaN    0.073363   \n",
       "gill-size                               0.278708        NaN    0.103809   \n",
       "gill-color                             -0.074781        NaN   -0.097583   \n",
       "stalk-shape                             0.235794        NaN    0.162604   \n",
       "stalk-root                              0.159805        NaN    0.156213   \n",
       "stalk-surface-above-ring                0.142835        NaN   -0.090591   \n",
       "stalk-surface-below-ring                0.110656        NaN   -0.077284   \n",
       "stalk-color-above-ring                  0.491510        NaN    0.067377   \n",
       "stalk-color-below-ring                  1.000000        NaN    0.065567   \n",
       "veil-type                                    NaN        NaN         NaN   \n",
       "veil-color                              0.065567        NaN    1.000000   \n",
       "ring-number                             0.087580        NaN    0.036380   \n",
       "ring-type                              -0.034284        NaN   -0.143673   \n",
       "spore-print-color                       0.254518        NaN   -0.003600   \n",
       "population                             -0.242792        NaN    0.124924   \n",
       "habitat                                 0.041594        NaN   -0.040581   \n",
       "\n",
       "                          ring-number  ring-type  spore-print-color  \\\n",
       "class                       -0.214366  -0.411771           0.171961   \n",
       "cap-shape                   -0.106534  -0.025457          -0.073416   \n",
       "cap-surface                 -0.026147  -0.106407           0.230364   \n",
       "cap-color                   -0.005822   0.162513          -0.293523   \n",
       "bruises                      0.056788   0.692973          -0.285008   \n",
       "odor                         0.111905  -0.281387           0.469055   \n",
       "gill-attachment              0.093236  -0.146689          -0.029524   \n",
       "gill-spacing                 0.243014  -0.195897           0.047323   \n",
       "gill-size                   -0.171362  -0.460872           0.622991   \n",
       "gill-color                   0.096054   0.629398          -0.416135   \n",
       "stalk-shape                 -0.293221  -0.291444           0.258831   \n",
       "stalk-root                  -0.247357   0.210155          -0.536996   \n",
       "stalk-surface-above-ring     0.107904   0.390091           0.100764   \n",
       "stalk-surface-below-ring     0.040006   0.394644           0.130974   \n",
       "stalk-color-above-ring       0.084917  -0.048878           0.271533   \n",
       "stalk-color-below-ring       0.087580  -0.034284           0.254518   \n",
       "veil-type                         NaN        NaN                NaN   \n",
       "veil-color                   0.036380  -0.143673          -0.003600   \n",
       "ring-number                  1.000000   0.058312           0.338417   \n",
       "ring-type                    0.058312   1.000000          -0.487048   \n",
       "spore-print-color            0.338417  -0.487048           1.000000   \n",
       "population                  -0.242020   0.211763          -0.126859   \n",
       "habitat                      0.235835  -0.212080           0.185954   \n",
       "\n",
       "                          population   habitat  \n",
       "class                       0.298686  0.217179  \n",
       "cap-shape                   0.063413 -0.042221  \n",
       "cap-surface                 0.021555  0.163887  \n",
       "cap-color                  -0.144770  0.033925  \n",
       "bruises                     0.088137 -0.075095  \n",
       "odor                       -0.043623 -0.026610  \n",
       "gill-attachment             0.165575 -0.030304  \n",
       "gill-spacing               -0.529253 -0.154680  \n",
       "gill-size                   0.147682  0.161418  \n",
       "gill-color                 -0.034090 -0.202972  \n",
       "stalk-shape                 0.087383 -0.269216  \n",
       "stalk-root                 -0.306747 -0.007668  \n",
       "stalk-surface-above-ring    0.079604 -0.058076  \n",
       "stalk-surface-below-ring    0.046797 -0.039628  \n",
       "stalk-color-above-ring     -0.240261  0.042561  \n",
       "stalk-color-below-ring     -0.242792  0.041594  \n",
       "veil-type                        NaN       NaN  \n",
       "veil-color                  0.124924 -0.040581  \n",
       "ring-number                -0.242020  0.235835  \n",
       "ring-type                   0.211763 -0.212080  \n",
       "spore-print-color          -0.126859  0.185954  \n",
       "population                  1.000000 -0.174529  \n",
       "habitat                    -0.174529  1.000000  \n",
       "\n",
       "[23 rows x 23 columns]"
      ]
     },
     "execution_count": 40,
     "metadata": {},
     "output_type": "execute_result"
    }
   ],
   "source": [
    "dataset.corr()"
   ]
  },
  {
   "cell_type": "code",
   "execution_count": 41,
   "metadata": {},
   "outputs": [
    {
     "data": {
      "text/plain": [
       "array([[ 1.02971224,  0.14012794, -0.19824983, ..., -0.67019486,\n",
       "        -0.5143892 ,  2.03002809],\n",
       "       [ 1.02971224,  0.14012794,  1.76587407, ..., -0.2504706 ,\n",
       "        -1.31310821, -0.29572966],\n",
       "       [-2.08704716,  0.14012794,  1.37304929, ..., -0.2504706 ,\n",
       "        -1.31310821,  0.86714922],\n",
       "       ...,\n",
       "       [-0.8403434 ,  0.14012794, -0.19824983, ..., -1.50964337,\n",
       "        -2.11182722,  0.28570978],\n",
       "       [-0.21699152,  0.95327039, -0.19824983, ...,  1.42842641,\n",
       "         0.28432981,  0.28570978],\n",
       "       [ 1.02971224,  0.14012794, -0.19824983, ...,  0.16925365,\n",
       "        -2.11182722,  0.28570978]])"
      ]
     },
     "execution_count": 41,
     "metadata": {},
     "output_type": "execute_result"
    }
   ],
   "source": [
    "# Scale the data to be between -1 and 1\n",
    "from sklearn.preprocessing import StandardScaler\n",
    "scaler = StandardScaler()\n",
    "X=scaler.fit_transform(X)\n",
    "X"
   ]
  },
  {
   "cell_type": "code",
   "execution_count": 42,
   "metadata": {},
   "outputs": [
    {
     "data": {
      "text/plain": [
       "array([[-5.74321902e-01, -9.75781349e-01, -1.22176154e+00, ...,\n",
       "        -2.08581362e-01,  8.13996758e-03, -2.98716006e-17],\n",
       "       [-2.28210230e+00,  2.79066333e-01, -1.20049669e+00, ...,\n",
       "         1.52238789e-01, -1.96446132e-01,  8.17047124e-17],\n",
       "       [-1.85803562e+00, -2.70972362e-01, -1.37237069e+00, ...,\n",
       "         2.57581784e-01, -3.62577199e-01,  3.62451933e-17],\n",
       "       ...,\n",
       "       [-1.62151632e+00, -7.57536709e-01,  2.73357994e+00, ...,\n",
       "        -1.42532241e+00,  6.36990122e-01,  1.31607921e-18],\n",
       "       [ 3.67060561e+00, -1.03277450e+00,  1.68459501e-01, ...,\n",
       "         9.41440123e-02, -6.43462238e-02, -7.47641463e-20],\n",
       "       [-1.57520272e+00, -1.22858140e+00,  2.44722789e+00, ...,\n",
       "        -8.04626064e-01,  5.90315263e-01,  1.39554149e-19]])"
      ]
     },
     "execution_count": 42,
     "metadata": {},
     "output_type": "execute_result"
    }
   ],
   "source": [
    "from sklearn.decomposition import PCA\n",
    "pca = PCA()\n",
    "pca.fit_transform(X)"
   ]
  },
  {
   "cell_type": "code",
   "execution_count": 43,
   "metadata": {},
   "outputs": [],
   "source": [
    "covariance=pca.get_covariance()\n",
    "#covariance"
   ]
  },
  {
   "cell_type": "code",
   "execution_count": 44,
   "metadata": {},
   "outputs": [
    {
     "data": {
      "text/plain": [
       "array([3.87410924e+00, 2.60339434e+00, 2.40073834e+00, 2.16674719e+00,\n",
       "       1.70303181e+00, 1.39495575e+00, 9.78803667e-01, 9.51936841e-01,\n",
       "       7.70036405e-01, 7.11748353e-01, 5.77556532e-01, 5.42484855e-01,\n",
       "       5.09631267e-01, 4.77214086e-01, 3.84467203e-01, 3.11228233e-01,\n",
       "       2.18649656e-01, 1.59514884e-01, 1.31521687e-01, 7.31993474e-02,\n",
       "       6.16155691e-02, 2.78307611e-33])"
      ]
     },
     "execution_count": 44,
     "metadata": {},
     "output_type": "execute_result"
    }
   ],
   "source": [
    "explained_variance=pca.explained_variance_\n",
    "explained_variance"
   ]
  },
  {
   "cell_type": "code",
   "execution_count": 45,
   "metadata": {},
   "outputs": [
    {
     "data": {
      "image/png": "[encoded data removed]",
      "text/plain": [
       "<Figure size 432x288 with 1 Axes>"
      ]
     },
     "metadata": {},
     "output_type": "display_data"
    }
   ],
   "source": [
    "with plt.style.context('dark_background'):\n",
    "    plt.figure(figsize=(6, 4))\n",
    "    \n",
    "    plt.bar(range(22), explained_variance, alpha=0.5, align='center',\n",
    "            label='individual explained variance')\n",
    "    plt.ylabel('Explained variance ratio')\n",
    "    plt.xlabel('Principal components')\n",
    "    plt.legend(loc='best')\n",
    "    plt.tight_layout()"
   ]
  },
  {
   "cell_type": "code",
   "execution_count": 46,
   "metadata": {},
   "outputs": [
    {
     "data": {
      "image/png": "[encoded data removed]",
      "text/plain": [
       "<Figure size 360x360 with 1 Axes>"
      ]
     },
     "metadata": {},
     "output_type": "display_data"
    }
   ],
   "source": [
    "N=dataset.values\n",
    "pca = PCA(n_components=2)\n",
    "x = pca.fit_transform(N)\n",
    "plt.figure(figsize = (5,5))\n",
    "plt.scatter(x[:,0],x[:,1])\n",
    "plt.show()"
   ]
  },
  {
   "cell_type": "code",
   "execution_count": 47,
   "metadata": {},
   "outputs": [
    {
     "data": {
      "image/png": "[encoded data removed]",
      "text/plain": [
       "<Figure size 360x360 with 1 Axes>"
      ]
     },
     "metadata": {},
     "output_type": "display_data"
    }
   ],
   "source": [
    "from sklearn.cluster import KMeans\n",
    "kmeans = KMeans(n_clusters=2, random_state=5)\n",
    "X_clustered = kmeans.fit_predict(N)\n",
    "\n",
    "LABEL_COLOR_MAP = {0 : 'g',\n",
    "                   1 : 'y',\n",
    "                   2 : 'r',\n",
    "                   3: 'b'\n",
    "                  }\n",
    "\n",
    "label_color = [LABEL_COLOR_MAP[l] for l in X_clustered]\n",
    "plt.figure(figsize = (5,5))\n",
    "plt.scatter(x[:,0],x[:,1], c= label_color)\n",
    "plt.show()"
   ]
  },
  {
   "cell_type": "code",
   "execution_count": 48,
   "metadata": {},
   "outputs": [
    {
     "data": {
      "image/png": "[encoded data removed]",
      "text/plain": [
       "<Figure size 360x360 with 1 Axes>"
      ]
     },
     "metadata": {},
     "output_type": "display_data"
    }
   ],
   "source": [
    "N=dataset.values\n",
    "pca = PCA(n_components=2)\n",
    "x = pca.fit_transform(N)\n",
    "plt.figure(figsize = (5,5))\n",
    "plt.scatter(x[:,0],x[:,1])\n",
    "plt.show()"
   ]
  },
  {
   "cell_type": "code",
   "execution_count": 49,
   "metadata": {},
   "outputs": [
    {
     "data": {
      "image/png": "[encoded data removed]",
      "text/plain": [
       "<Figure size 360x360 with 1 Axes>"
      ]
     },
     "metadata": {},
     "output_type": "display_data"
    }
   ],
   "source": [
    "\n",
    "kmeans = KMeans(n_clusters=3, random_state=5)\n",
    "X_clustered = kmeans.fit_predict(N)\n",
    "\n",
    "\n",
    "label_color = [LABEL_COLOR_MAP[l] for l in X_clustered]\n",
    "plt.figure(figsize = (5,5))\n",
    "plt.scatter(x[:,0],x[:,1], c= label_color)\n",
    "plt.show()"
   ]
  },
  {
   "cell_type": "code",
   "execution_count": 50,
   "metadata": {},
   "outputs": [
    {
     "data": {
      "image/png": "[encoded data removed]",
      "text/plain": [
       "<Figure size 360x360 with 1 Axes>"
      ]
     },
     "metadata": {},
     "output_type": "display_data"
    }
   ],
   "source": [
    "N=dataset.values\n",
    "pca = PCA(n_components=2)\n",
    "x = pca.fit_transform(N)\n",
    "plt.figure(figsize = (5,5))\n",
    "plt.scatter(x[:,0],x[:,1])\n",
    "plt.show()"
   ]
  },
  {
   "cell_type": "code",
   "execution_count": 51,
   "metadata": {},
   "outputs": [
    {
     "data": {
      "image/png": "[encoded data removed]",
      "text/plain": [
       "<Figure size 360x360 with 1 Axes>"
      ]
     },
     "metadata": {},
     "output_type": "display_data"
    }
   ],
   "source": [
    "\n",
    "kmeans = KMeans(n_clusters=4, random_state=5)\n",
    "X_clustered = kmeans.fit_predict(N)\n",
    "\n",
    "label_color = [LABEL_COLOR_MAP[l] for l in X_clustered]\n",
    "plt.figure(figsize = (5,5))\n",
    "plt.scatter(x[:,0],x[:,1], c= label_color)\n",
    "plt.show()"
   ]
  },
  {
   "cell_type": "code",
   "execution_count": 52,
   "metadata": {},
   "outputs": [
    {
     "data": {
      "text/plain": [
       "array([[-0.5743219 , -0.97578135, -1.22176154, ..., -0.51996599,\n",
       "        -0.78254366,  1.12025933],\n",
       "       [-2.2821023 ,  0.27906633, -1.20049669, ..., -0.11307822,\n",
       "        -0.73093408, -0.01817413],\n",
       "       [-1.85803562, -0.27097236, -1.37237069, ...,  0.01652548,\n",
       "        -0.6561675 ,  0.10791396],\n",
       "       ...,\n",
       "       [-1.62151632, -0.75753671,  2.73357994, ..., -0.51961303,\n",
       "        -0.70768708,  0.22578534],\n",
       "       [ 3.67060561, -1.0327745 ,  0.1684595 , ..., -0.08688401,\n",
       "        -0.11464249, -0.14801392],\n",
       "       [-1.57520272, -1.2285814 ,  2.44722789, ...,  0.91606764,\n",
       "        -0.77988482, -0.30141893]])"
      ]
     },
     "execution_count": 52,
     "metadata": {},
     "output_type": "execute_result"
    }
   ],
   "source": [
    "pca_modified=PCA(n_components=17)\n",
    "pca_modified.fit_transform(X)"
   ]
  },
  {
   "cell_type": "code",
   "execution_count": 53,
   "metadata": {},
   "outputs": [],
   "source": [
    "from sklearn.model_selection import train_test_split\n",
    "X_train, X_test, y_train, y_test = train_test_split(X,y,test_size=0.2,random_state=4)"
   ]
  },
  {
   "cell_type": "code",
   "execution_count": 54,
   "metadata": {},
   "outputs": [],
   "source": [
    "from sklearn.linear_model import LogisticRegression\n",
    "from sklearn.model_selection import cross_val_score\n",
    "from sklearn import metrics\n",
    "\n",
    "model_LR= LogisticRegression()"
   ]
  },
  {
   "cell_type": "code",
   "execution_count": 55,
   "metadata": {},
   "outputs": [
    {
     "data": {
      "text/plain": [
       "LogisticRegression(C=1.0, class_weight=None, dual=False, fit_intercept=True,\n",
       "          intercept_scaling=1, max_iter=100, multi_class='ovr', n_jobs=1,\n",
       "          penalty='l2', random_state=None, solver='liblinear', tol=0.0001,\n",
       "          verbose=0, warm_start=False)"
      ]
     },
     "execution_count": 55,
     "metadata": {},
     "output_type": "execute_result"
    }
   ],
   "source": [
    "model_LR.fit(X_train,y_train)"
   ]
  },
  {
   "cell_type": "code",
   "execution_count": 56,
   "metadata": {},
   "outputs": [
    {
     "data": {
      "text/plain": [
       "1.0"
      ]
     },
     "execution_count": 56,
     "metadata": {},
     "output_type": "execute_result"
    }
   ],
   "source": [
    "y_prob = model_LR.predict_proba(X_test)[:,1] # This will give you positive class prediction probabilities  \n",
    "y_pred = np.where(y_prob > 0.5, 1, 0) # This will threshold the probabilities to give class predictions.\n",
    "model_LR.score(X_test, y_pred)"
   ]
  },
  {
   "cell_type": "code",
   "execution_count": 57,
   "metadata": {},
   "outputs": [
    {
     "data": {
      "text/plain": [
       "array([[814,  31],\n",
       "       [ 37, 743]], dtype=int64)"
      ]
     },
     "execution_count": 57,
     "metadata": {},
     "output_type": "execute_result"
    }
   ],
   "source": [
    "confusion_matrix=metrics.confusion_matrix(y_test,y_pred)\n",
    "confusion_matrix"
   ]
  },
  {
   "cell_type": "code",
   "execution_count": 58,
   "metadata": {},
   "outputs": [
    {
     "data": {
      "text/plain": [
       "0.9579388560157791"
      ]
     },
     "execution_count": 58,
     "metadata": {},
     "output_type": "execute_result"
    }
   ],
   "source": [
    "auc_roc=metrics.roc_auc_score(y_test,y_pred)\n",
    "auc_roc"
   ]
  },
  {
   "cell_type": "code",
   "execution_count": 59,
   "metadata": {},
   "outputs": [
    {
     "data": {
      "text/plain": [
       "0.9902988924290701"
      ]
     },
     "execution_count": 59,
     "metadata": {},
     "output_type": "execute_result"
    }
   ],
   "source": [
    "from sklearn.metrics import roc_curve, auc\n",
    "false_positive_rate, true_positive_rate, thresholds = roc_curve(y_test, y_prob)\n",
    "roc_auc = auc(false_positive_rate, true_positive_rate)\n",
    "roc_auc"
   ]
  },
  {
   "cell_type": "code",
   "execution_count": 60,
   "metadata": {},
   "outputs": [
    {
     "data": {
      "text/plain": [
       "Text(0.5,0,'False Positive Rate')"
      ]
     },
     "execution_count": 60,
     "metadata": {},
     "output_type": "execute_result"
    },
    {
     "data": {
      "image/png": "[encoded data removed]",
      "text/plain": [
       "<Figure size 720x720 with 1 Axes>"
      ]
     },
     "metadata": {},
     "output_type": "display_data"
    }
   ],
   "source": [
    "import matplotlib.pyplot as plt\n",
    "plt.figure(figsize=(10,10))\n",
    "plt.title('Receiver Operating Characteristic')\n",
    "plt.plot(false_positive_rate,true_positive_rate, color='red',label = 'AUC = %0.2f' % roc_auc)\n",
    "plt.legend(loc = 'lower right')\n",
    "plt.plot([0, 1], [0, 1],linestyle='--')\n",
    "plt.axis('tight')\n",
    "plt.ylabel('True Positive Rate')\n",
    "plt.xlabel('False Positive Rate')"
   ]
  },
  {
   "cell_type": "code",
   "execution_count": 61,
   "metadata": {},
   "outputs": [],
   "source": [
    "from sklearn.linear_model import LogisticRegression\n",
    "from sklearn.model_selection import cross_val_score\n",
    "from sklearn import metrics\n",
    "\n",
    "LR_model= LogisticRegression()\n",
    "\n",
    "tuned_parameters = {'C': [0.001, 0.01, 0.1, 1, 10, 100, 1000] ,\n",
    "              'penalty':['l1','l2']\n",
    "                   }"
   ]
  },
  {
   "cell_type": "code",
   "execution_count": 62,
   "metadata": {
    "collapsed": true
   },
   "outputs": [
    {
     "data": {
      "text/html": [
       "<div>\n",
       "<style scoped>\n",
       "    .dataframe tbody tr th:only-of-type {\n",
       "        vertical-align: middle;\n",
       "    }\n",
       "\n",
       "    .dataframe tbody tr th {\n",
       "        vertical-align: top;\n",
       "    }\n",
       "\n",
       "    .dataframe thead th {\n",
       "        text-align: right;\n",
       "    }\n",
       "</style>\n",
       "<table border=\"1\" class=\"dataframe\">\n",
       "  <thead>\n",
       "    <tr style=\"text-align: right;\">\n",
       "      <th></th>\n",
       "      <th>class</th>\n",
       "      <th>cap-shape</th>\n",
       "      <th>cap-surface</th>\n",
       "      <th>cap-color</th>\n",
       "      <th>bruises</th>\n",
       "      <th>odor</th>\n",
       "      <th>gill-attachment</th>\n",
       "      <th>gill-spacing</th>\n",
       "      <th>gill-size</th>\n",
       "      <th>gill-color</th>\n",
       "      <th>...</th>\n",
       "      <th>stalk-surface-below-ring</th>\n",
       "      <th>stalk-color-above-ring</th>\n",
       "      <th>stalk-color-below-ring</th>\n",
       "      <th>veil-type</th>\n",
       "      <th>veil-color</th>\n",
       "      <th>ring-number</th>\n",
       "      <th>ring-type</th>\n",
       "      <th>spore-print-color</th>\n",
       "      <th>population</th>\n",
       "      <th>habitat</th>\n",
       "    </tr>\n",
       "  </thead>\n",
       "  <tbody>\n",
       "    <tr>\n",
       "      <th>class</th>\n",
       "      <td>1.000000</td>\n",
       "      <td>0.052951</td>\n",
       "      <td>0.178446</td>\n",
       "      <td>-0.031384</td>\n",
       "      <td>-0.501530</td>\n",
       "      <td>-0.093552</td>\n",
       "      <td>0.129200</td>\n",
       "      <td>-0.348387</td>\n",
       "      <td>0.540024</td>\n",
       "      <td>-0.530566</td>\n",
       "      <td>...</td>\n",
       "      <td>-0.298801</td>\n",
       "      <td>-0.154003</td>\n",
       "      <td>-0.146730</td>\n",
       "      <td>NaN</td>\n",
       "      <td>0.145142</td>\n",
       "      <td>-0.214366</td>\n",
       "      <td>-0.411771</td>\n",
       "      <td>0.171961</td>\n",
       "      <td>0.298686</td>\n",
       "      <td>0.217179</td>\n",
       "    </tr>\n",
       "    <tr>\n",
       "      <th>cap-shape</th>\n",
       "      <td>0.052951</td>\n",
       "      <td>1.000000</td>\n",
       "      <td>-0.050454</td>\n",
       "      <td>-0.048203</td>\n",
       "      <td>-0.035374</td>\n",
       "      <td>-0.021935</td>\n",
       "      <td>0.078865</td>\n",
       "      <td>0.013196</td>\n",
       "      <td>0.054050</td>\n",
       "      <td>-0.006039</td>\n",
       "      <td>...</td>\n",
       "      <td>-0.032591</td>\n",
       "      <td>-0.031659</td>\n",
       "      <td>-0.030390</td>\n",
       "      <td>NaN</td>\n",
       "      <td>0.072560</td>\n",
       "      <td>-0.106534</td>\n",
       "      <td>-0.025457</td>\n",
       "      <td>-0.073416</td>\n",
       "      <td>0.063413</td>\n",
       "      <td>-0.042221</td>\n",
       "    </tr>\n",
       "    <tr>\n",
       "      <th>cap-surface</th>\n",
       "      <td>0.178446</td>\n",
       "      <td>-0.050454</td>\n",
       "      <td>1.000000</td>\n",
       "      <td>-0.019402</td>\n",
       "      <td>0.070228</td>\n",
       "      <td>0.045233</td>\n",
       "      <td>-0.034180</td>\n",
       "      <td>-0.282306</td>\n",
       "      <td>0.208100</td>\n",
       "      <td>-0.161017</td>\n",
       "      <td>...</td>\n",
       "      <td>0.107965</td>\n",
       "      <td>0.066050</td>\n",
       "      <td>0.068885</td>\n",
       "      <td>NaN</td>\n",
       "      <td>-0.016603</td>\n",
       "      <td>-0.026147</td>\n",
       "      <td>-0.106407</td>\n",
       "      <td>0.230364</td>\n",
       "      <td>0.021555</td>\n",
       "      <td>0.163887</td>\n",
       "    </tr>\n",
       "    <tr>\n",
       "      <th>cap-color</th>\n",
       "      <td>-0.031384</td>\n",
       "      <td>-0.048203</td>\n",
       "      <td>-0.019402</td>\n",
       "      <td>1.000000</td>\n",
       "      <td>-0.000764</td>\n",
       "      <td>-0.387121</td>\n",
       "      <td>0.041436</td>\n",
       "      <td>0.144259</td>\n",
       "      <td>-0.169464</td>\n",
       "      <td>0.084659</td>\n",
       "      <td>...</td>\n",
       "      <td>-0.047710</td>\n",
       "      <td>0.002364</td>\n",
       "      <td>0.008057</td>\n",
       "      <td>NaN</td>\n",
       "      <td>0.036130</td>\n",
       "      <td>-0.005822</td>\n",
       "      <td>0.162513</td>\n",
       "      <td>-0.293523</td>\n",
       "      <td>-0.144770</td>\n",
       "      <td>0.033925</td>\n",
       "    </tr>\n",
       "    <tr>\n",
       "      <th>bruises</th>\n",
       "      <td>-0.501530</td>\n",
       "      <td>-0.035374</td>\n",
       "      <td>0.070228</td>\n",
       "      <td>-0.000764</td>\n",
       "      <td>1.000000</td>\n",
       "      <td>-0.061825</td>\n",
       "      <td>0.137359</td>\n",
       "      <td>-0.299473</td>\n",
       "      <td>-0.369596</td>\n",
       "      <td>0.527120</td>\n",
       "      <td>...</td>\n",
       "      <td>0.458983</td>\n",
       "      <td>0.083538</td>\n",
       "      <td>0.092874</td>\n",
       "      <td>NaN</td>\n",
       "      <td>0.119770</td>\n",
       "      <td>0.056788</td>\n",
       "      <td>0.692973</td>\n",
       "      <td>-0.285008</td>\n",
       "      <td>0.088137</td>\n",
       "      <td>-0.075095</td>\n",
       "    </tr>\n",
       "    <tr>\n",
       "      <th>odor</th>\n",
       "      <td>-0.093552</td>\n",
       "      <td>-0.021935</td>\n",
       "      <td>0.045233</td>\n",
       "      <td>-0.387121</td>\n",
       "      <td>-0.061825</td>\n",
       "      <td>1.000000</td>\n",
       "      <td>-0.059590</td>\n",
       "      <td>0.063936</td>\n",
       "      <td>0.310495</td>\n",
       "      <td>-0.129213</td>\n",
       "      <td>...</td>\n",
       "      <td>0.061820</td>\n",
       "      <td>0.174532</td>\n",
       "      <td>0.169407</td>\n",
       "      <td>NaN</td>\n",
       "      <td>-0.057747</td>\n",
       "      <td>0.111905</td>\n",
       "      <td>-0.281387</td>\n",
       "      <td>0.469055</td>\n",
       "      <td>-0.043623</td>\n",
       "      <td>-0.026610</td>\n",
       "    </tr>\n",
       "    <tr>\n",
       "      <th>gill-attachment</th>\n",
       "      <td>0.129200</td>\n",
       "      <td>0.078865</td>\n",
       "      <td>-0.034180</td>\n",
       "      <td>0.041436</td>\n",
       "      <td>0.137359</td>\n",
       "      <td>-0.059590</td>\n",
       "      <td>1.000000</td>\n",
       "      <td>0.071489</td>\n",
       "      <td>0.108984</td>\n",
       "      <td>-0.128567</td>\n",
       "      <td>...</td>\n",
       "      <td>-0.116177</td>\n",
       "      <td>0.099299</td>\n",
       "      <td>0.097160</td>\n",
       "      <td>NaN</td>\n",
       "      <td>0.897518</td>\n",
       "      <td>0.093236</td>\n",
       "      <td>-0.146689</td>\n",
       "      <td>-0.029524</td>\n",
       "      <td>0.165575</td>\n",
       "      <td>-0.030304</td>\n",
       "    </tr>\n",
       "    <tr>\n",
       "      <th>gill-spacing</th>\n",
       "      <td>-0.348387</td>\n",
       "      <td>0.013196</td>\n",
       "      <td>-0.282306</td>\n",
       "      <td>0.144259</td>\n",
       "      <td>-0.299473</td>\n",
       "      <td>0.063936</td>\n",
       "      <td>0.071489</td>\n",
       "      <td>1.000000</td>\n",
       "      <td>-0.108333</td>\n",
       "      <td>0.100193</td>\n",
       "      <td>...</td>\n",
       "      <td>-0.213775</td>\n",
       "      <td>0.274574</td>\n",
       "      <td>0.253505</td>\n",
       "      <td>NaN</td>\n",
       "      <td>0.073363</td>\n",
       "      <td>0.243014</td>\n",
       "      <td>-0.195897</td>\n",
       "      <td>0.047323</td>\n",
       "      <td>-0.529253</td>\n",
       "      <td>-0.154680</td>\n",
       "    </tr>\n",
       "    <tr>\n",
       "      <th>gill-size</th>\n",
       "      <td>0.540024</td>\n",
       "      <td>0.054050</td>\n",
       "      <td>0.208100</td>\n",
       "      <td>-0.169464</td>\n",
       "      <td>-0.369596</td>\n",
       "      <td>0.310495</td>\n",
       "      <td>0.108984</td>\n",
       "      <td>-0.108333</td>\n",
       "      <td>1.000000</td>\n",
       "      <td>-0.516736</td>\n",
       "      <td>...</td>\n",
       "      <td>0.010894</td>\n",
       "      <td>0.296548</td>\n",
       "      <td>0.278708</td>\n",
       "      <td>NaN</td>\n",
       "      <td>0.103809</td>\n",
       "      <td>-0.171362</td>\n",
       "      <td>-0.460872</td>\n",
       "      <td>0.622991</td>\n",
       "      <td>0.147682</td>\n",
       "      <td>0.161418</td>\n",
       "    </tr>\n",
       "    <tr>\n",
       "      <th>gill-color</th>\n",
       "      <td>-0.530566</td>\n",
       "      <td>-0.006039</td>\n",
       "      <td>-0.161017</td>\n",
       "      <td>0.084659</td>\n",
       "      <td>0.527120</td>\n",
       "      <td>-0.129213</td>\n",
       "      <td>-0.128567</td>\n",
       "      <td>0.100193</td>\n",
       "      <td>-0.516736</td>\n",
       "      <td>1.000000</td>\n",
       "      <td>...</td>\n",
       "      <td>0.257224</td>\n",
       "      <td>-0.058299</td>\n",
       "      <td>-0.074781</td>\n",
       "      <td>NaN</td>\n",
       "      <td>-0.097583</td>\n",
       "      <td>0.096054</td>\n",
       "      <td>0.629398</td>\n",
       "      <td>-0.416135</td>\n",
       "      <td>-0.034090</td>\n",
       "      <td>-0.202972</td>\n",
       "    </tr>\n",
       "    <tr>\n",
       "      <th>stalk-shape</th>\n",
       "      <td>-0.102019</td>\n",
       "      <td>0.063794</td>\n",
       "      <td>-0.014123</td>\n",
       "      <td>-0.456496</td>\n",
       "      <td>0.099364</td>\n",
       "      <td>0.459766</td>\n",
       "      <td>0.186485</td>\n",
       "      <td>0.080895</td>\n",
       "      <td>0.214576</td>\n",
       "      <td>-0.175699</td>\n",
       "      <td>...</td>\n",
       "      <td>-0.034399</td>\n",
       "      <td>0.223439</td>\n",
       "      <td>0.235794</td>\n",
       "      <td>NaN</td>\n",
       "      <td>0.162604</td>\n",
       "      <td>-0.293221</td>\n",
       "      <td>-0.291444</td>\n",
       "      <td>0.258831</td>\n",
       "      <td>0.087383</td>\n",
       "      <td>-0.269216</td>\n",
       "    </tr>\n",
       "    <tr>\n",
       "      <th>stalk-root</th>\n",
       "      <td>-0.379361</td>\n",
       "      <td>0.030191</td>\n",
       "      <td>-0.126245</td>\n",
       "      <td>0.321274</td>\n",
       "      <td>0.244188</td>\n",
       "      <td>-0.205215</td>\n",
       "      <td>0.144063</td>\n",
       "      <td>0.350548</td>\n",
       "      <td>-0.344345</td>\n",
       "      <td>0.315080</td>\n",
       "      <td>...</td>\n",
       "      <td>0.087454</td>\n",
       "      <td>0.157140</td>\n",
       "      <td>0.159805</td>\n",
       "      <td>NaN</td>\n",
       "      <td>0.156213</td>\n",
       "      <td>-0.247357</td>\n",
       "      <td>0.210155</td>\n",
       "      <td>-0.536996</td>\n",
       "      <td>-0.306747</td>\n",
       "      <td>-0.007668</td>\n",
       "    </tr>\n",
       "    <tr>\n",
       "      <th>stalk-surface-above-ring</th>\n",
       "      <td>-0.334593</td>\n",
       "      <td>-0.030417</td>\n",
       "      <td>0.089090</td>\n",
       "      <td>-0.060837</td>\n",
       "      <td>0.460824</td>\n",
       "      <td>0.118617</td>\n",
       "      <td>-0.088916</td>\n",
       "      <td>-0.212359</td>\n",
       "      <td>0.056310</td>\n",
       "      <td>0.224287</td>\n",
       "      <td>...</td>\n",
       "      <td>0.437164</td>\n",
       "      <td>0.132708</td>\n",
       "      <td>0.142835</td>\n",
       "      <td>NaN</td>\n",
       "      <td>-0.090591</td>\n",
       "      <td>0.107904</td>\n",
       "      <td>0.390091</td>\n",
       "      <td>0.100764</td>\n",
       "      <td>0.079604</td>\n",
       "      <td>-0.058076</td>\n",
       "    </tr>\n",
       "    <tr>\n",
       "      <th>stalk-surface-below-ring</th>\n",
       "      <td>-0.298801</td>\n",
       "      <td>-0.032591</td>\n",
       "      <td>0.107965</td>\n",
       "      <td>-0.047710</td>\n",
       "      <td>0.458983</td>\n",
       "      <td>0.061820</td>\n",
       "      <td>-0.116177</td>\n",
       "      <td>-0.213775</td>\n",
       "      <td>0.010894</td>\n",
       "      <td>0.257224</td>\n",
       "      <td>...</td>\n",
       "      <td>1.000000</td>\n",
       "      <td>0.106933</td>\n",
       "      <td>0.110656</td>\n",
       "      <td>NaN</td>\n",
       "      <td>-0.077284</td>\n",
       "      <td>0.040006</td>\n",
       "      <td>0.394644</td>\n",
       "      <td>0.130974</td>\n",
       "      <td>0.046797</td>\n",
       "      <td>-0.039628</td>\n",
       "    </tr>\n",
       "    <tr>\n",
       "      <th>stalk-color-above-ring</th>\n",
       "      <td>-0.154003</td>\n",
       "      <td>-0.031659</td>\n",
       "      <td>0.066050</td>\n",
       "      <td>0.002364</td>\n",
       "      <td>0.083538</td>\n",
       "      <td>0.174532</td>\n",
       "      <td>0.099299</td>\n",
       "      <td>0.274574</td>\n",
       "      <td>0.296548</td>\n",
       "      <td>-0.058299</td>\n",
       "      <td>...</td>\n",
       "      <td>0.106933</td>\n",
       "      <td>1.000000</td>\n",
       "      <td>0.491510</td>\n",
       "      <td>NaN</td>\n",
       "      <td>0.067377</td>\n",
       "      <td>0.084917</td>\n",
       "      <td>-0.048878</td>\n",
       "      <td>0.271533</td>\n",
       "      <td>-0.240261</td>\n",
       "      <td>0.042561</td>\n",
       "    </tr>\n",
       "    <tr>\n",
       "      <th>stalk-color-below-ring</th>\n",
       "      <td>-0.146730</td>\n",
       "      <td>-0.030390</td>\n",
       "      <td>0.068885</td>\n",
       "      <td>0.008057</td>\n",
       "      <td>0.092874</td>\n",
       "      <td>0.169407</td>\n",
       "      <td>0.097160</td>\n",
       "      <td>0.253505</td>\n",
       "      <td>0.278708</td>\n",
       "      <td>-0.074781</td>\n",
       "      <td>...</td>\n",
       "      <td>0.110656</td>\n",
       "      <td>0.491510</td>\n",
       "      <td>1.000000</td>\n",
       "      <td>NaN</td>\n",
       "      <td>0.065567</td>\n",
       "      <td>0.087580</td>\n",
       "      <td>-0.034284</td>\n",
       "      <td>0.254518</td>\n",
       "      <td>-0.242792</td>\n",
       "      <td>0.041594</td>\n",
       "    </tr>\n",
       "    <tr>\n",
       "      <th>veil-type</th>\n",
       "      <td>NaN</td>\n",
       "      <td>NaN</td>\n",
       "      <td>NaN</td>\n",
       "      <td>NaN</td>\n",
       "      <td>NaN</td>\n",
       "      <td>NaN</td>\n",
       "      <td>NaN</td>\n",
       "      <td>NaN</td>\n",
       "      <td>NaN</td>\n",
       "      <td>NaN</td>\n",
       "      <td>...</td>\n",
       "      <td>NaN</td>\n",
       "      <td>NaN</td>\n",
       "      <td>NaN</td>\n",
       "      <td>NaN</td>\n",
       "      <td>NaN</td>\n",
       "      <td>NaN</td>\n",
       "      <td>NaN</td>\n",
       "      <td>NaN</td>\n",
       "      <td>NaN</td>\n",
       "      <td>NaN</td>\n",
       "    </tr>\n",
       "    <tr>\n",
       "      <th>veil-color</th>\n",
       "      <td>0.145142</td>\n",
       "      <td>0.072560</td>\n",
       "      <td>-0.016603</td>\n",
       "      <td>0.036130</td>\n",
       "      <td>0.119770</td>\n",
       "      <td>-0.057747</td>\n",
       "      <td>0.897518</td>\n",
       "      <td>0.073363</td>\n",
       "      <td>0.103809</td>\n",
       "      <td>-0.097583</td>\n",
       "      <td>...</td>\n",
       "      <td>-0.077284</td>\n",
       "      <td>0.067377</td>\n",
       "      <td>0.065567</td>\n",
       "      <td>NaN</td>\n",
       "      <td>1.000000</td>\n",
       "      <td>0.036380</td>\n",
       "      <td>-0.143673</td>\n",
       "      <td>-0.003600</td>\n",
       "      <td>0.124924</td>\n",
       "      <td>-0.040581</td>\n",
       "    </tr>\n",
       "    <tr>\n",
       "      <th>ring-number</th>\n",
       "      <td>-0.214366</td>\n",
       "      <td>-0.106534</td>\n",
       "      <td>-0.026147</td>\n",
       "      <td>-0.005822</td>\n",
       "      <td>0.056788</td>\n",
       "      <td>0.111905</td>\n",
       "      <td>0.093236</td>\n",
       "      <td>0.243014</td>\n",
       "      <td>-0.171362</td>\n",
       "      <td>0.096054</td>\n",
       "      <td>...</td>\n",
       "      <td>0.040006</td>\n",
       "      <td>0.084917</td>\n",
       "      <td>0.087580</td>\n",
       "      <td>NaN</td>\n",
       "      <td>0.036380</td>\n",
       "      <td>1.000000</td>\n",
       "      <td>0.058312</td>\n",
       "      <td>0.338417</td>\n",
       "      <td>-0.242020</td>\n",
       "      <td>0.235835</td>\n",
       "    </tr>\n",
       "    <tr>\n",
       "      <th>ring-type</th>\n",
       "      <td>-0.411771</td>\n",
       "      <td>-0.025457</td>\n",
       "      <td>-0.106407</td>\n",
       "      <td>0.162513</td>\n",
       "      <td>0.692973</td>\n",
       "      <td>-0.281387</td>\n",
       "      <td>-0.146689</td>\n",
       "      <td>-0.195897</td>\n",
       "      <td>-0.460872</td>\n",
       "      <td>0.629398</td>\n",
       "      <td>...</td>\n",
       "      <td>0.394644</td>\n",
       "      <td>-0.048878</td>\n",
       "      <td>-0.034284</td>\n",
       "      <td>NaN</td>\n",
       "      <td>-0.143673</td>\n",
       "      <td>0.058312</td>\n",
       "      <td>1.000000</td>\n",
       "      <td>-0.487048</td>\n",
       "      <td>0.211763</td>\n",
       "      <td>-0.212080</td>\n",
       "    </tr>\n",
       "    <tr>\n",
       "      <th>spore-print-color</th>\n",
       "      <td>0.171961</td>\n",
       "      <td>-0.073416</td>\n",
       "      <td>0.230364</td>\n",
       "      <td>-0.293523</td>\n",
       "      <td>-0.285008</td>\n",
       "      <td>0.469055</td>\n",
       "      <td>-0.029524</td>\n",
       "      <td>0.047323</td>\n",
       "      <td>0.622991</td>\n",
       "      <td>-0.416135</td>\n",
       "      <td>...</td>\n",
       "      <td>0.130974</td>\n",
       "      <td>0.271533</td>\n",
       "      <td>0.254518</td>\n",
       "      <td>NaN</td>\n",
       "      <td>-0.003600</td>\n",
       "      <td>0.338417</td>\n",
       "      <td>-0.487048</td>\n",
       "      <td>1.000000</td>\n",
       "      <td>-0.126859</td>\n",
       "      <td>0.185954</td>\n",
       "    </tr>\n",
       "    <tr>\n",
       "      <th>population</th>\n",
       "      <td>0.298686</td>\n",
       "      <td>0.063413</td>\n",
       "      <td>0.021555</td>\n",
       "      <td>-0.144770</td>\n",
       "      <td>0.088137</td>\n",
       "      <td>-0.043623</td>\n",
       "      <td>0.165575</td>\n",
       "      <td>-0.529253</td>\n",
       "      <td>0.147682</td>\n",
       "      <td>-0.034090</td>\n",
       "      <td>...</td>\n",
       "      <td>0.046797</td>\n",
       "      <td>-0.240261</td>\n",
       "      <td>-0.242792</td>\n",
       "      <td>NaN</td>\n",
       "      <td>0.124924</td>\n",
       "      <td>-0.242020</td>\n",
       "      <td>0.211763</td>\n",
       "      <td>-0.126859</td>\n",
       "      <td>1.000000</td>\n",
       "      <td>-0.174529</td>\n",
       "    </tr>\n",
       "    <tr>\n",
       "      <th>habitat</th>\n",
       "      <td>0.217179</td>\n",
       "      <td>-0.042221</td>\n",
       "      <td>0.163887</td>\n",
       "      <td>0.033925</td>\n",
       "      <td>-0.075095</td>\n",
       "      <td>-0.026610</td>\n",
       "      <td>-0.030304</td>\n",
       "      <td>-0.154680</td>\n",
       "      <td>0.161418</td>\n",
       "      <td>-0.202972</td>\n",
       "      <td>...</td>\n",
       "      <td>-0.039628</td>\n",
       "      <td>0.042561</td>\n",
       "      <td>0.041594</td>\n",
       "      <td>NaN</td>\n",
       "      <td>-0.040581</td>\n",
       "      <td>0.235835</td>\n",
       "      <td>-0.212080</td>\n",
       "      <td>0.185954</td>\n",
       "      <td>-0.174529</td>\n",
       "      <td>1.000000</td>\n",
       "    </tr>\n",
       "  </tbody>\n",
       "</table>\n",
       "<p>23 rows × 23 columns</p>\n",
       "</div>"
      ],
      "text/plain": [
       "                             class  cap-shape  cap-surface  cap-color  \\\n",
       "class                     1.000000   0.052951     0.178446  -0.031384   \n",
       "cap-shape                 0.052951   1.000000    -0.050454  -0.048203   \n",
       "cap-surface               0.178446  -0.050454     1.000000  -0.019402   \n",
       "cap-color                -0.031384  -0.048203    -0.019402   1.000000   \n",
       "bruises                  -0.501530  -0.035374     0.070228  -0.000764   \n",
       "odor                     -0.093552  -0.021935     0.045233  -0.387121   \n",
       "gill-attachment           0.129200   0.078865    -0.034180   0.041436   \n",
       "gill-spacing             -0.348387   0.013196    -0.282306   0.144259   \n",
       "gill-size                 0.540024   0.054050     0.208100  -0.169464   \n",
       "gill-color               -0.530566  -0.006039    -0.161017   0.084659   \n",
       "stalk-shape              -0.102019   0.063794    -0.014123  -0.456496   \n",
       "stalk-root               -0.379361   0.030191    -0.126245   0.321274   \n",
       "stalk-surface-above-ring -0.334593  -0.030417     0.089090  -0.060837   \n",
       "stalk-surface-below-ring -0.298801  -0.032591     0.107965  -0.047710   \n",
       "stalk-color-above-ring   -0.154003  -0.031659     0.066050   0.002364   \n",
       "stalk-color-below-ring   -0.146730  -0.030390     0.068885   0.008057   \n",
       "veil-type                      NaN        NaN          NaN        NaN   \n",
       "veil-color                0.145142   0.072560    -0.016603   0.036130   \n",
       "ring-number              -0.214366  -0.106534    -0.026147  -0.005822   \n",
       "ring-type                -0.411771  -0.025457    -0.106407   0.162513   \n",
       "spore-print-color         0.171961  -0.073416     0.230364  -0.293523   \n",
       "population                0.298686   0.063413     0.021555  -0.144770   \n",
       "habitat                   0.217179  -0.042221     0.163887   0.033925   \n",
       "\n",
       "                           bruises      odor  gill-attachment  gill-spacing  \\\n",
       "class                    -0.501530 -0.093552         0.129200     -0.348387   \n",
       "cap-shape                -0.035374 -0.021935         0.078865      0.013196   \n",
       "cap-surface               0.070228  0.045233        -0.034180     -0.282306   \n",
       "cap-color                -0.000764 -0.387121         0.041436      0.144259   \n",
       "bruises                   1.000000 -0.061825         0.137359     -0.299473   \n",
       "odor                     -0.061825  1.000000        -0.059590      0.063936   \n",
       "gill-attachment           0.137359 -0.059590         1.000000      0.071489   \n",
       "gill-spacing             -0.299473  0.063936         0.071489      1.000000   \n",
       "gill-size                -0.369596  0.310495         0.108984     -0.108333   \n",
       "gill-color                0.527120 -0.129213        -0.128567      0.100193   \n",
       "stalk-shape               0.099364  0.459766         0.186485      0.080895   \n",
       "stalk-root                0.244188 -0.205215         0.144063      0.350548   \n",
       "stalk-surface-above-ring  0.460824  0.118617        -0.088916     -0.212359   \n",
       "stalk-surface-below-ring  0.458983  0.061820        -0.116177     -0.213775   \n",
       "stalk-color-above-ring    0.083538  0.174532         0.099299      0.274574   \n",
       "stalk-color-below-ring    0.092874  0.169407         0.097160      0.253505   \n",
       "veil-type                      NaN       NaN              NaN           NaN   \n",
       "veil-color                0.119770 -0.057747         0.897518      0.073363   \n",
       "ring-number               0.056788  0.111905         0.093236      0.243014   \n",
       "ring-type                 0.692973 -0.281387        -0.146689     -0.195897   \n",
       "spore-print-color        -0.285008  0.469055        -0.029524      0.047323   \n",
       "population                0.088137 -0.043623         0.165575     -0.529253   \n",
       "habitat                  -0.075095 -0.026610        -0.030304     -0.154680   \n",
       "\n",
       "                          gill-size  gill-color    ...     \\\n",
       "class                      0.540024   -0.530566    ...      \n",
       "cap-shape                  0.054050   -0.006039    ...      \n",
       "cap-surface                0.208100   -0.161017    ...      \n",
       "cap-color                 -0.169464    0.084659    ...      \n",
       "bruises                   -0.369596    0.527120    ...      \n",
       "odor                       0.310495   -0.129213    ...      \n",
       "gill-attachment            0.108984   -0.128567    ...      \n",
       "gill-spacing              -0.108333    0.100193    ...      \n",
       "gill-size                  1.000000   -0.516736    ...      \n",
       "gill-color                -0.516736    1.000000    ...      \n",
       "stalk-shape                0.214576   -0.175699    ...      \n",
       "stalk-root                -0.344345    0.315080    ...      \n",
       "stalk-surface-above-ring   0.056310    0.224287    ...      \n",
       "stalk-surface-below-ring   0.010894    0.257224    ...      \n",
       "stalk-color-above-ring     0.296548   -0.058299    ...      \n",
       "stalk-color-below-ring     0.278708   -0.074781    ...      \n",
       "veil-type                       NaN         NaN    ...      \n",
       "veil-color                 0.103809   -0.097583    ...      \n",
       "ring-number               -0.171362    0.096054    ...      \n",
       "ring-type                 -0.460872    0.629398    ...      \n",
       "spore-print-color          0.622991   -0.416135    ...      \n",
       "population                 0.147682   -0.034090    ...      \n",
       "habitat                    0.161418   -0.202972    ...      \n",
       "\n",
       "                          stalk-surface-below-ring  stalk-color-above-ring  \\\n",
       "class                                    -0.298801               -0.154003   \n",
       "cap-shape                                -0.032591               -0.031659   \n",
       "cap-surface                               0.107965                0.066050   \n",
       "cap-color                                -0.047710                0.002364   \n",
       "bruises                                   0.458983                0.083538   \n",
       "odor                                      0.061820                0.174532   \n",
       "gill-attachment                          -0.116177                0.099299   \n",
       "gill-spacing                             -0.213775                0.274574   \n",
       "gill-size                                 0.010894                0.296548   \n",
       "gill-color                                0.257224               -0.058299   \n",
       "stalk-shape                              -0.034399                0.223439   \n",
       "stalk-root                                0.087454                0.157140   \n",
       "stalk-surface-above-ring                  0.437164                0.132708   \n",
       "stalk-surface-below-ring                  1.000000                0.106933   \n",
       "stalk-color-above-ring                    0.106933                1.000000   \n",
       "stalk-color-below-ring                    0.110656                0.491510   \n",
       "veil-type                                      NaN                     NaN   \n",
       "veil-color                               -0.077284                0.067377   \n",
       "ring-number                               0.040006                0.084917   \n",
       "ring-type                                 0.394644               -0.048878   \n",
       "spore-print-color                         0.130974                0.271533   \n",
       "population                                0.046797               -0.240261   \n",
       "habitat                                  -0.039628                0.042561   \n",
       "\n",
       "                          stalk-color-below-ring  veil-type  veil-color  \\\n",
       "class                                  -0.146730        NaN    0.145142   \n",
       "cap-shape                              -0.030390        NaN    0.072560   \n",
       "cap-surface                             0.068885        NaN   -0.016603   \n",
       "cap-color                               0.008057        NaN    0.036130   \n",
       "bruises                                 0.092874        NaN    0.119770   \n",
       "odor                                    0.169407        NaN   -0.057747   \n",
       "gill-attachment                         0.097160        NaN    0.897518   \n",
       "gill-spacing                            0.253505        NaN    0.073363   \n",
       "gill-size                               0.278708        NaN    0.103809   \n",
       "gill-color                             -0.074781        NaN   -0.097583   \n",
       "stalk-shape                             0.235794        NaN    0.162604   \n",
       "stalk-root                              0.159805        NaN    0.156213   \n",
       "stalk-surface-above-ring                0.142835        NaN   -0.090591   \n",
       "stalk-surface-below-ring                0.110656        NaN   -0.077284   \n",
       "stalk-color-above-ring                  0.491510        NaN    0.067377   \n",
       "stalk-color-below-ring                  1.000000        NaN    0.065567   \n",
       "veil-type                                    NaN        NaN         NaN   \n",
       "veil-color                              0.065567        NaN    1.000000   \n",
       "ring-number                             0.087580        NaN    0.036380   \n",
       "ring-type                              -0.034284        NaN   -0.143673   \n",
       "spore-print-color                       0.254518        NaN   -0.003600   \n",
       "population                             -0.242792        NaN    0.124924   \n",
       "habitat                                 0.041594        NaN   -0.040581   \n",
       "\n",
       "                          ring-number  ring-type  spore-print-color  \\\n",
       "class                       -0.214366  -0.411771           0.171961   \n",
       "cap-shape                   -0.106534  -0.025457          -0.073416   \n",
       "cap-surface                 -0.026147  -0.106407           0.230364   \n",
       "cap-color                   -0.005822   0.162513          -0.293523   \n",
       "bruises                      0.056788   0.692973          -0.285008   \n",
       "odor                         0.111905  -0.281387           0.469055   \n",
       "gill-attachment              0.093236  -0.146689          -0.029524   \n",
       "gill-spacing                 0.243014  -0.195897           0.047323   \n",
       "gill-size                   -0.171362  -0.460872           0.622991   \n",
       "gill-color                   0.096054   0.629398          -0.416135   \n",
       "stalk-shape                 -0.293221  -0.291444           0.258831   \n",
       "stalk-root                  -0.247357   0.210155          -0.536996   \n",
       "stalk-surface-above-ring     0.107904   0.390091           0.100764   \n",
       "stalk-surface-below-ring     0.040006   0.394644           0.130974   \n",
       "stalk-color-above-ring       0.084917  -0.048878           0.271533   \n",
       "stalk-color-below-ring       0.087580  -0.034284           0.254518   \n",
       "veil-type                         NaN        NaN                NaN   \n",
       "veil-color                   0.036380  -0.143673          -0.003600   \n",
       "ring-number                  1.000000   0.058312           0.338417   \n",
       "ring-type                    0.058312   1.000000          -0.487048   \n",
       "spore-print-color            0.338417  -0.487048           1.000000   \n",
       "population                  -0.242020   0.211763          -0.126859   \n",
       "habitat                      0.235835  -0.212080           0.185954   \n",
       "\n",
       "                          population   habitat  \n",
       "class                       0.298686  0.217179  \n",
       "cap-shape                   0.063413 -0.042221  \n",
       "cap-surface                 0.021555  0.163887  \n",
       "cap-color                  -0.144770  0.033925  \n",
       "bruises                     0.088137 -0.075095  \n",
       "odor                       -0.043623 -0.026610  \n",
       "gill-attachment             0.165575 -0.030304  \n",
       "gill-spacing               -0.529253 -0.154680  \n",
       "gill-size                   0.147682  0.161418  \n",
       "gill-color                 -0.034090 -0.202972  \n",
       "stalk-shape                 0.087383 -0.269216  \n",
       "stalk-root                 -0.306747 -0.007668  \n",
       "stalk-surface-above-ring    0.079604 -0.058076  \n",
       "stalk-surface-below-ring    0.046797 -0.039628  \n",
       "stalk-color-above-ring     -0.240261  0.042561  \n",
       "stalk-color-below-ring     -0.242792  0.041594  \n",
       "veil-type                        NaN       NaN  \n",
       "veil-color                  0.124924 -0.040581  \n",
       "ring-number                -0.242020  0.235835  \n",
       "ring-type                   0.211763 -0.212080  \n",
       "spore-print-color          -0.126859  0.185954  \n",
       "population                  1.000000 -0.174529  \n",
       "habitat                    -0.174529  1.000000  \n",
       "\n",
       "[23 rows x 23 columns]"
      ]
     },
     "execution_count": 62,
     "metadata": {},
     "output_type": "execute_result"
    }
   ],
   "source": [
    "dataset.corr()"
   ]
  },
  {
   "cell_type": "code",
   "execution_count": 111,
   "metadata": {},
   "outputs": [],
   "source": [
    "from sklearn.model_selection import GridSearchCV\n",
    "\n",
    "LR= GridSearchCV(LR_model, tuned_parameters,cv=2)"
   ]
  },
  {
   "cell_type": "code",
   "execution_count": 112,
   "metadata": {},
   "outputs": [
    {
     "data": {
      "text/plain": [
       "GridSearchCV(cv=2, error_score='raise',\n",
       "       estimator=LogisticRegression(C=1.0, class_weight=None, dual=False, fit_intercept=True,\n",
       "          intercept_scaling=1, max_iter=100, multi_class='ovr', n_jobs=1,\n",
       "          penalty='l2', random_state=None, solver='liblinear', tol=0.0001,\n",
       "          verbose=0, warm_start=False),\n",
       "       fit_params=None, iid=True, n_jobs=1,\n",
       "       param_grid={'C': [0.001, 0.01, 0.1, 1, 10, 100, 1000], 'penalty': ['l1', 'l2']},\n",
       "       pre_dispatch='2*n_jobs', refit=True, return_train_score='warn',\n",
       "       scoring=None, verbose=0)"
      ]
     },
     "execution_count": 112,
     "metadata": {},
     "output_type": "execute_result"
    }
   ],
   "source": [
    "LR.fit(X_train,y_train)"
   ]
  },
  {
   "cell_type": "code",
   "execution_count": 113,
   "metadata": {},
   "outputs": [
    {
     "name": "stdout",
     "output_type": "stream",
     "text": [
      "{'C': 1000, 'penalty': 'l1'}\n"
     ]
    }
   ],
   "source": [
    "print(LR.best_params_)"
   ]
  },
  {
   "cell_type": "code",
   "execution_count": 114,
   "metadata": {},
   "outputs": [
    {
     "data": {
      "text/plain": [
       "1.0"
      ]
     },
     "execution_count": 114,
     "metadata": {},
     "output_type": "execute_result"
    }
   ],
   "source": [
    "y_prob = LR.predict_proba(X_test)[:,1] # This will give you positive class prediction probabilities  \n",
    "y_pred = np.where(y_prob > 0.5, 1, 0) # This will threshold the probabilities to give class predictions.\n",
    "LR.score(X_test, y_pred)"
   ]
  },
  {
   "cell_type": "code",
   "execution_count": 115,
   "metadata": {},
   "outputs": [
    {
     "data": {
      "text/plain": [
       "array([[824,  21],\n",
       "       [ 23, 757]], dtype=int64)"
      ]
     },
     "execution_count": 115,
     "metadata": {},
     "output_type": "execute_result"
    }
   ],
   "source": [
    "confusion_matrix=metrics.confusion_matrix(y_test,y_pred)\n",
    "confusion_matrix"
   ]
  },
  {
   "cell_type": "code",
   "execution_count": 68,
   "metadata": {},
   "outputs": [
    {
     "data": {
      "text/plain": [
       "'             precision    recall  f1-score   support\\n\\n          0       0.97      0.98      0.97       845\\n          1       0.97      0.97      0.97       780\\n\\navg / total       0.97      0.97      0.97      1625\\n'"
      ]
     },
     "execution_count": 68,
     "metadata": {},
     "output_type": "execute_result"
    }
   ],
   "source": [
    "auc_roc=metrics.classification_report(y_test,y_pred)\n",
    "auc_roc"
   ]
  },
  {
   "cell_type": "code",
   "execution_count": 69,
   "metadata": {},
   "outputs": [
    {
     "data": {
      "text/plain": [
       "0.9728303747534518"
      ]
     },
     "execution_count": 69,
     "metadata": {},
     "output_type": "execute_result"
    }
   ],
   "source": [
    "auc_roc=metrics.roc_auc_score(y_test,y_pred)\n",
    "auc_roc"
   ]
  },
  {
   "cell_type": "code",
   "execution_count": 70,
   "metadata": {},
   "outputs": [
    {
     "data": {
      "text/plain": [
       "0.991624943104233"
      ]
     },
     "execution_count": 70,
     "metadata": {},
     "output_type": "execute_result"
    }
   ],
   "source": [
    "from sklearn.metrics import roc_curve, auc\n",
    "false_positive_rate, true_positive_rate, thresholds = roc_curve(y_test, y_prob)\n",
    "roc_auc = auc(false_positive_rate, true_positive_rate)\n",
    "roc_auc"
   ]
  },
  {
   "cell_type": "code",
   "execution_count": 105,
   "metadata": {},
   "outputs": [],
   "source": [
    "from sklearn.model_selection import GridSearchCV\n",
    "\n",
    "LR= GridSearchCV(LR_model, tuned_parameters,cv=2)"
   ]
  },
  {
   "cell_type": "code",
   "execution_count": 106,
   "metadata": {},
   "outputs": [
    {
     "data": {
      "text/plain": [
       "GridSearchCV(cv=2, error_score='raise',\n",
       "       estimator=LogisticRegression(C=1.0, class_weight=None, dual=False, fit_intercept=True,\n",
       "          intercept_scaling=1, max_iter=100, multi_class='ovr', n_jobs=1,\n",
       "          penalty='l2', random_state=None, solver='liblinear', tol=0.0001,\n",
       "          verbose=0, warm_start=False),\n",
       "       fit_params=None, iid=True, n_jobs=1,\n",
       "       param_grid={'C': [0.001, 0.01, 0.1, 1, 10, 100, 1000], 'penalty': ['l1', 'l2']},\n",
       "       pre_dispatch='2*n_jobs', refit=True, return_train_score='warn',\n",
       "       scoring=None, verbose=0)"
      ]
     },
     "execution_count": 106,
     "metadata": {},
     "output_type": "execute_result"
    }
   ],
   "source": [
    "LR.fit(X_train,y_train)"
   ]
  },
  {
   "cell_type": "code",
   "execution_count": 107,
   "metadata": {},
   "outputs": [
    {
     "name": "stdout",
     "output_type": "stream",
     "text": [
      "{'C': 100, 'penalty': 'l1'}\n"
     ]
    }
   ],
   "source": [
    "print(LR.best_params_)"
   ]
  },
  {
   "cell_type": "code",
   "execution_count": 108,
   "metadata": {},
   "outputs": [
    {
     "data": {
      "text/plain": [
       "1.0"
      ]
     },
     "execution_count": 108,
     "metadata": {},
     "output_type": "execute_result"
    }
   ],
   "source": [
    "y_prob = LR.predict_proba(X_test)[:,1] # This will give you positive class prediction probabilities  \n",
    "y_pred = np.where(y_prob > 0.5, 1, 0) # This will threshold the probabilities to give class predictions.\n",
    "LR.score(X_test, y_pred)"
   ]
  },
  {
   "cell_type": "code",
   "execution_count": 109,
   "metadata": {},
   "outputs": [
    {
     "data": {
      "text/plain": [
       "array([[824,  21],\n",
       "       [ 23, 757]], dtype=int64)"
      ]
     },
     "execution_count": 109,
     "metadata": {},
     "output_type": "execute_result"
    }
   ],
   "source": [
    "confusion_matrix=metrics.confusion_matrix(y_test,y_pred)\n",
    "confusion_matrix"
   ]
  },
  {
   "cell_type": "code",
   "execution_count": 110,
   "metadata": {},
   "outputs": [
    {
     "data": {
      "text/plain": [
       "0.9728303747534518"
      ]
     },
     "execution_count": 110,
     "metadata": {},
     "output_type": "execute_result"
    }
   ],
   "source": [
    "auc_roc=metrics.roc_auc_score(y_test,y_pred)\n",
    "auc_roc"
   ]
  },
  {
   "cell_type": "code",
   "execution_count": null,
   "metadata": {},
   "outputs": [],
   "source": []
  },
  {
   "cell_type": "code",
   "execution_count": null,
   "metadata": {},
   "outputs": [],
   "source": []
  },
  {
   "cell_type": "code",
   "execution_count": 71,
   "metadata": {},
   "outputs": [
    {
     "data": {
      "text/plain": [
       "Text(0.5,0,'False Positive Rate')"
      ]
     },
     "execution_count": 71,
     "metadata": {},
     "output_type": "execute_result"
    },
    {
     "data": {
      "image/png": "[encoded data removed]",
      "text/plain": [
       "<Figure size 720x720 with 1 Axes>"
      ]
     },
     "metadata": {},
     "output_type": "display_data"
    }
   ],
   "source": [
    "import matplotlib.pyplot as plt\n",
    "plt.figure(figsize=(10,10))\n",
    "plt.title('Receiver Operating Characteristic')\n",
    "plt.plot(false_positive_rate,true_positive_rate, color='red',label = 'AUC = %0.2f' % roc_auc)\n",
    "plt.legend(loc = 'lower right')\n",
    "plt.plot([0, 1], [0, 1],linestyle='--')\n",
    "plt.axis('tight')\n",
    "plt.ylabel('True Positive Rate')\n",
    "plt.xlabel('False Positive Rate')"
   ]
  },
  {
   "cell_type": "code",
   "execution_count": 72,
   "metadata": {},
   "outputs": [
    {
     "data": {
      "text/plain": [
       "LogisticRegression(C=1.0, class_weight=None, dual=False, fit_intercept=True,\n",
       "          intercept_scaling=1, max_iter=100, multi_class='ovr', n_jobs=1,\n",
       "          penalty='l2', random_state=None, solver='liblinear', tol=0.0001,\n",
       "          verbose=0, warm_start=False)"
      ]
     },
     "execution_count": 72,
     "metadata": {},
     "output_type": "execute_result"
    }
   ],
   "source": [
    "LR_ridge= LogisticRegression(penalty='l2')\n",
    "LR_ridge.fit(X_train,y_train)"
   ]
  },
  {
   "cell_type": "code",
   "execution_count": 73,
   "metadata": {},
   "outputs": [
    {
     "data": {
      "text/plain": [
       "1.0"
      ]
     },
     "execution_count": 73,
     "metadata": {},
     "output_type": "execute_result"
    }
   ],
   "source": [
    "y_prob = LR_ridge.predict_proba(X_test)[:,1] # This will give you positive class prediction probabilities  \n",
    "y_pred = np.where(y_prob > 0.5, 1, 0) # This will threshold the probabilities to give class predictions.\n",
    "LR_ridge.score(X_test, y_pred)"
   ]
  },
  {
   "cell_type": "code",
   "execution_count": 74,
   "metadata": {},
   "outputs": [
    {
     "data": {
      "text/plain": [
       "array([[814,  31],\n",
       "       [ 37, 743]], dtype=int64)"
      ]
     },
     "execution_count": 74,
     "metadata": {},
     "output_type": "execute_result"
    }
   ],
   "source": [
    "confusion_matrix=metrics.confusion_matrix(y_test,y_pred)\n",
    "confusion_matrix"
   ]
  },
  {
   "cell_type": "code",
   "execution_count": 75,
   "metadata": {},
   "outputs": [
    {
     "data": {
      "text/plain": [
       "'             precision    recall  f1-score   support\\n\\n          0       0.96      0.96      0.96       845\\n          1       0.96      0.95      0.96       780\\n\\navg / total       0.96      0.96      0.96      1625\\n'"
      ]
     },
     "execution_count": 75,
     "metadata": {},
     "output_type": "execute_result"
    }
   ],
   "source": [
    "auc_roc=metrics.classification_report(y_test,y_pred)\n",
    "auc_roc"
   ]
  },
  {
   "cell_type": "code",
   "execution_count": 76,
   "metadata": {},
   "outputs": [
    {
     "data": {
      "text/plain": [
       "0.9579388560157791"
      ]
     },
     "execution_count": 76,
     "metadata": {},
     "output_type": "execute_result"
    }
   ],
   "source": [
    "auc_roc=metrics.roc_auc_score(y_test,y_pred)\n",
    "auc_roc"
   ]
  },
  {
   "cell_type": "code",
   "execution_count": 77,
   "metadata": {},
   "outputs": [
    {
     "data": {
      "text/plain": [
       "0.9902988924290701"
      ]
     },
     "execution_count": 77,
     "metadata": {},
     "output_type": "execute_result"
    }
   ],
   "source": [
    "from sklearn.metrics import roc_curve, auc\n",
    "false_positive_rate, true_positive_rate, thresholds = roc_curve(y_test, y_prob)\n",
    "roc_auc = auc(false_positive_rate, true_positive_rate)\n",
    "roc_auc"
   ]
  },
  {
   "cell_type": "code",
   "execution_count": 78,
   "metadata": {},
   "outputs": [
    {
     "data": {
      "text/plain": [
       "Text(0.5,0,'False Positive Rate')"
      ]
     },
     "execution_count": 78,
     "metadata": {},
     "output_type": "execute_result"
    },
    {
     "data": {
      "image/png": "[encoded data removed]",
      "text/plain": [
       "<Figure size 720x720 with 1 Axes>"
      ]
     },
     "metadata": {},
     "output_type": "display_data"
    }
   ],
   "source": [
    "import matplotlib.pyplot as plt\n",
    "plt.figure(figsize=(10,10))\n",
    "plt.title('Receiver Operating Characteristic')\n",
    "plt.plot(false_positive_rate,true_positive_rate, color='red',label = 'AUC = %0.2f' % roc_auc)\n",
    "plt.legend(loc = 'lower right')\n",
    "plt.plot([0, 1], [0, 1],linestyle='--')\n",
    "plt.axis('tight')\n",
    "plt.ylabel('True Positive Rate')\n",
    "plt.xlabel('False Positive Rate')"
   ]
  },
  {
   "cell_type": "code",
   "execution_count": null,
   "metadata": {},
   "outputs": [],
   "source": []
  },
  {
   "cell_type": "code",
   "execution_count": 131,
   "metadata": {},
   "outputs": [],
   "source": [
    "from sklearn.model_selection import train_test_split\n",
    "X_train, X_test, y_train, y_test = train_test_split(X,y,test_size=0.2,random_state=4)"
   ]
  },
  {
   "cell_type": "code",
   "execution_count": 132,
   "metadata": {},
   "outputs": [
    {
     "data": {
      "text/plain": [
       "LogisticRegression(C=1.0, class_weight=None, dual=False, fit_intercept=True,\n",
       "          intercept_scaling=1, max_iter=100, multi_class='ovr', n_jobs=1,\n",
       "          penalty='l2', random_state=None, solver='liblinear', tol=0.0001,\n",
       "          verbose=0, warm_start=False)"
      ]
     },
     "execution_count": 132,
     "metadata": {},
     "output_type": "execute_result"
    }
   ],
   "source": [
    "model_LR.fit(X_train,y_train)"
   ]
  },
  {
   "cell_type": "code",
   "execution_count": 133,
   "metadata": {},
   "outputs": [
    {
     "data": {
      "text/plain": [
       "1.0"
      ]
     },
     "execution_count": 133,
     "metadata": {},
     "output_type": "execute_result"
    }
   ],
   "source": [
    "\n",
    "y_prob = model_LR.predict_proba(X_test)[:,1] # This will give you positive class prediction probabilities  \n",
    "y_pred = np.where(y_prob > 0.5, 1, 0) # This will threshold the probabilities to give class predictions.\n",
    "model_LR.score(X_test, y_pred)"
   ]
  },
  {
   "cell_type": "code",
   "execution_count": 134,
   "metadata": {},
   "outputs": [
    {
     "data": {
      "text/plain": [
       "array([[814,  31],\n",
       "       [ 37, 743]], dtype=int64)"
      ]
     },
     "execution_count": 134,
     "metadata": {},
     "output_type": "execute_result"
    }
   ],
   "source": [
    "confusion_matrix=metrics.confusion_matrix(y_test,y_pred)\n",
    "confusion_matrix"
   ]
  },
  {
   "cell_type": "code",
   "execution_count": 135,
   "metadata": {},
   "outputs": [
    {
     "data": {
      "text/plain": [
       "0.9579388560157791"
      ]
     },
     "execution_count": 135,
     "metadata": {},
     "output_type": "execute_result"
    }
   ],
   "source": [
    "auc_roc=metrics.roc_auc_score(y_test,y_pred)\n",
    "auc_roc"
   ]
  },
  {
   "cell_type": "code",
   "execution_count": 136,
   "metadata": {},
   "outputs": [
    {
     "data": {
      "text/plain": [
       "0.9902988924290701"
      ]
     },
     "execution_count": 136,
     "metadata": {},
     "output_type": "execute_result"
    }
   ],
   "source": [
    "from sklearn.metrics import roc_curve, auc\n",
    "false_positive_rate, true_positive_rate, thresholds = roc_curve(y_test, y_prob)\n",
    "roc_auc = auc(false_positive_rate, true_positive_rate)\n",
    "roc_auc"
   ]
  },
  {
   "cell_type": "code",
   "execution_count": 151,
   "metadata": {},
   "outputs": [],
   "source": [
    "from sklearn.model_selection import train_test_split\n",
    "X_train, X_test, y_train, y_test = train_test_split(X,y,test_size=0.4,random_state=4)"
   ]
  },
  {
   "cell_type": "code",
   "execution_count": 152,
   "metadata": {},
   "outputs": [],
   "source": [
    "from sklearn.model_selection import GridSearchCV\n",
    "\n",
    "LR= GridSearchCV(LR_model, tuned_parameters,cv=10)"
   ]
  },
  {
   "cell_type": "code",
   "execution_count": 153,
   "metadata": {},
   "outputs": [
    {
     "data": {
      "text/plain": [
       "GridSearchCV(cv=10, error_score='raise',\n",
       "       estimator=LogisticRegression(C=1.0, class_weight=None, dual=False, fit_intercept=True,\n",
       "          intercept_scaling=1, max_iter=100, multi_class='ovr', n_jobs=1,\n",
       "          penalty='l2', random_state=None, solver='liblinear', tol=0.0001,\n",
       "          verbose=0, warm_start=False),\n",
       "       fit_params=None, iid=True, n_jobs=1,\n",
       "       param_grid={'C': [0.001, 0.01, 0.1, 1, 10, 100, 1000], 'penalty': ['l1', 'l2']},\n",
       "       pre_dispatch='2*n_jobs', refit=True, return_train_score='warn',\n",
       "       scoring=None, verbose=0)"
      ]
     },
     "execution_count": 153,
     "metadata": {},
     "output_type": "execute_result"
    }
   ],
   "source": [
    "LR.fit(X_train,y_train)"
   ]
  },
  {
   "cell_type": "code",
   "execution_count": 154,
   "metadata": {},
   "outputs": [
    {
     "name": "stdout",
     "output_type": "stream",
     "text": [
      "{'C': 1000, 'penalty': 'l2'}\n"
     ]
    }
   ],
   "source": [
    "print(LR.best_params_)"
   ]
  },
  {
   "cell_type": "code",
   "execution_count": 155,
   "metadata": {},
   "outputs": [
    {
     "data": {
      "text/plain": [
       "1.0"
      ]
     },
     "execution_count": 155,
     "metadata": {},
     "output_type": "execute_result"
    }
   ],
   "source": [
    "y_prob = LR.predict_proba(X_test)[:,1] # This will give you positive class prediction probabilities  \n",
    "y_pred = np.where(y_prob > 0.5, 1, 0) # This will threshold the probabilities to give class predictions.\n",
    "LR.score(X_test, y_pred)"
   ]
  },
  {
   "cell_type": "code",
   "execution_count": 156,
   "metadata": {},
   "outputs": [
    {
     "data": {
      "text/plain": [
       "array([[1627,   64],\n",
       "       [  60, 1499]], dtype=int64)"
      ]
     },
     "execution_count": 156,
     "metadata": {},
     "output_type": "execute_result"
    }
   ],
   "source": [
    "confusion_matrix=metrics.confusion_matrix(y_test,y_pred)\n",
    "confusion_matrix"
   ]
  },
  {
   "cell_type": "code",
   "execution_count": 157,
   "metadata": {},
   "outputs": [
    {
     "data": {
      "text/plain": [
       "'             precision    recall  f1-score   support\\n\\n          0       0.96      0.96      0.96      1691\\n          1       0.96      0.96      0.96      1559\\n\\navg / total       0.96      0.96      0.96      3250\\n'"
      ]
     },
     "execution_count": 157,
     "metadata": {},
     "output_type": "execute_result"
    }
   ],
   "source": [
    "auc_roc=metrics.classification_report(y_test,y_pred)\n",
    "auc_roc"
   ]
  },
  {
   "cell_type": "code",
   "execution_count": 158,
   "metadata": {
    "scrolled": true
   },
   "outputs": [
    {
     "data": {
      "text/plain": [
       "0.9618331816669694"
      ]
     },
     "execution_count": 158,
     "metadata": {},
     "output_type": "execute_result"
    }
   ],
   "source": [
    "auc_roc=metrics.roc_auc_score(y_test,y_pred)\n",
    "auc_roc"
   ]
  },
  {
   "cell_type": "code",
   "execution_count": 124,
   "metadata": {},
   "outputs": [
    {
     "data": {
      "text/plain": [
       "0.9910896801502427"
      ]
     },
     "execution_count": 124,
     "metadata": {},
     "output_type": "execute_result"
    }
   ],
   "source": [
    "from sklearn.metrics import roc_curve, auc\n",
    "false_positive_rate, true_positive_rate, thresholds = roc_curve(y_test, y_prob)\n",
    "roc_auc = auc(false_positive_rate, true_positive_rate)\n",
    "roc_auc"
   ]
  },
  {
   "cell_type": "code",
   "execution_count": 125,
   "metadata": {},
   "outputs": [
    {
     "data": {
      "text/plain": [
       "LogisticRegression(C=1.0, class_weight=None, dual=False, fit_intercept=True,\n",
       "          intercept_scaling=1, max_iter=100, multi_class='ovr', n_jobs=1,\n",
       "          penalty='l2', random_state=None, solver='liblinear', tol=0.0001,\n",
       "          verbose=0, warm_start=False)"
      ]
     },
     "execution_count": 125,
     "metadata": {},
     "output_type": "execute_result"
    }
   ],
   "source": [
    "LR_ridge= LogisticRegression(penalty='l2')\n",
    "LR_ridge.fit(X_train,y_train)"
   ]
  },
  {
   "cell_type": "code",
   "execution_count": 126,
   "metadata": {},
   "outputs": [
    {
     "data": {
      "text/plain": [
       "1.0"
      ]
     },
     "execution_count": 126,
     "metadata": {},
     "output_type": "execute_result"
    }
   ],
   "source": [
    "y_prob = LR_ridge.predict_proba(X_test)[:,1] # This will give you positive class prediction probabilities  \n",
    "y_pred = np.where(y_prob > 0.5, 1, 0) # This will threshold the probabilities to give class predictions.\n",
    "LR_ridge.score(X_test, y_pred)"
   ]
  },
  {
   "cell_type": "code",
   "execution_count": 127,
   "metadata": {},
   "outputs": [
    {
     "data": {
      "text/plain": [
       "array([[1617,   74],\n",
       "       [  84, 1475]], dtype=int64)"
      ]
     },
     "execution_count": 127,
     "metadata": {},
     "output_type": "execute_result"
    }
   ],
   "source": [
    "confusion_matrix=metrics.confusion_matrix(y_test,y_pred)\n",
    "confusion_matrix"
   ]
  },
  {
   "cell_type": "code",
   "execution_count": 128,
   "metadata": {},
   "outputs": [
    {
     "data": {
      "text/plain": [
       "'             precision    recall  f1-score   support\\n\\n          0       0.95      0.96      0.95      1691\\n          1       0.95      0.95      0.95      1559\\n\\navg / total       0.95      0.95      0.95      3250\\n'"
      ]
     },
     "execution_count": 128,
     "metadata": {},
     "output_type": "execute_result"
    }
   ],
   "source": [
    "auc_roc=metrics.classification_report(y_test,y_pred)\n",
    "auc_roc"
   ]
  },
  {
   "cell_type": "code",
   "execution_count": 129,
   "metadata": {},
   "outputs": [
    {
     "data": {
      "text/plain": [
       "0.9511791095673469"
      ]
     },
     "execution_count": 129,
     "metadata": {},
     "output_type": "execute_result"
    }
   ],
   "source": [
    "auc_roc=metrics.roc_auc_score(y_test,y_pred)\n",
    "auc_roc"
   ]
  },
  {
   "cell_type": "code",
   "execution_count": 130,
   "metadata": {},
   "outputs": [
    {
     "data": {
      "text/plain": [
       "0.9879564642303195"
      ]
     },
     "execution_count": 130,
     "metadata": {},
     "output_type": "execute_result"
    }
   ],
   "source": [
    "from sklearn.metrics import roc_curve, auc\n",
    "false_positive_rate, true_positive_rate, thresholds = roc_curve(y_test, y_prob)\n",
    "roc_auc = auc(false_positive_rate, true_positive_rate)\n",
    "roc_auc"
   ]
  },
  {
   "cell_type": "code",
   "execution_count": null,
   "metadata": {},
   "outputs": [],
   "source": []
  },
  {
   "cell_type": "code",
   "execution_count": null,
   "metadata": {},
   "outputs": [],
   "source": []
  },
  {
   "cell_type": "code",
   "execution_count": null,
   "metadata": {},
   "outputs": [],
   "source": []
  }
 ],
 "metadata": {
  "kernelspec": {
   "display_name": "Python 3",
   "language": "python",
   "name": "python3"
  },
  "language_info": {
   "codemirror_mode": {
    "name": "ipython",
    "version": 3
   },
   "file_extension": ".py",
   "mimetype": "text/x-python",
   "name": "python",
   "nbconvert_exporter": "python",
   "pygments_lexer": "ipython3",
   "version": "3.6.5"
  }
 },
 "nbformat": 4,
 "nbformat_minor": 2
}
